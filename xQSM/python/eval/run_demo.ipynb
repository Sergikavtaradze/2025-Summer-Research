{
  "cells": [
    {
      "cell_type": "markdown",
      "metadata": {
        "colab_type": "text",
        "id": "view-in-github"
      },
      "source": [
        "<a href=\"https://colab.research.google.com/github/Sergikavtaradze/2025-Summer-Research/blob/main/xQSM/python/eval/run_demo.ipynb\" target=\"_parent\"><img src=\"https://colab.research.google.com/assets/colab-badge.svg\" alt=\"Open In Colab\"/></a>"
      ]
    },
    {
      "cell_type": "markdown",
      "metadata": {
        "id": "8OJ2MZNOoO2e"
      },
      "source": [
        "# This is a demo for xQSM;"
      ]
    },
    {
      "cell_type": "markdown",
      "metadata": {
        "id": "layXfRdBoO2e"
      },
      "source": [
        "# import necessary packages"
      ]
    },
    {
      "cell_type": "code",
      "execution_count": 40,
      "metadata": {},
      "outputs": [
        {
          "name": "stdout",
          "output_type": "stream",
          "text": [
            "Masked file saved: /Users/sirbucks/Documents/xQSM/2025-Summer-Research/QSM_data/sub-07/ses-03/qsm/sub-07_ses-03_unwrapped-SEGUE_mask-nfe_bfr-PDF_localfield_masked_masked.nii.gz\n",
            "Masked file saved: /Users/sirbucks/Documents/xQSM/2025-Summer-Research/QSM_data/sub-07/ses-03/qsm/sub-07_ses-03_unwrapped-SEGUE_mask-nfe_bfr-PDF_susc-autoNDI_Chimap_masked_masked.nii.gz\n",
            "Masked file saved: /Users/sirbucks/Documents/xQSM/2025-Summer-Research/QSM_data/sub-07/ses-02/qsm/sub-07_ses-02_unwrapped-SEGUE_mask-nfe_bfr-PDF_localfield_masked_masked.nii.gz\n",
            "Masked file saved: /Users/sirbucks/Documents/xQSM/2025-Summer-Research/QSM_data/sub-07/ses-02/qsm/sub-07_ses-02_unwrapped-SEGUE_mask-nfe_bfr-PDF_susc-autoNDI_Chimap_masked_masked.nii.gz\n",
            "Masked file saved: /Users/sirbucks/Documents/xQSM/2025-Summer-Research/QSM_data/sub-07/ses-01/qsm/sub-07_ses-01_unwrapped-SEGUE_mask-nfe_bfr-PDF_localfield_masked_masked.nii.gz\n",
            "Masked file saved: /Users/sirbucks/Documents/xQSM/2025-Summer-Research/QSM_data/sub-07/ses-01/qsm/sub-07_ses-01_unwrapped-SEGUE_mask-nfe_bfr-PDF_susc-autoNDI_Chimap_masked_masked.nii.gz\n",
            "Masked file saved: /Users/sirbucks/Documents/xQSM/2025-Summer-Research/QSM_data/sub-07/ses-06/qsm/sub-07_ses-06_unwrapped-SEGUE_mask-nfe_bfr-PDF_localfield_masked_masked.nii.gz\n",
            "Masked file saved: /Users/sirbucks/Documents/xQSM/2025-Summer-Research/QSM_data/sub-07/ses-06/qsm/sub-07_ses-06_unwrapped-SEGUE_mask-nfe_bfr-PDF_susc-autoNDI_Chimap_masked_masked.nii.gz\n",
            "Masked file saved: /Users/sirbucks/Documents/xQSM/2025-Summer-Research/QSM_data/sub-07/ses-04/qsm/sub-07_ses-04_unwrapped-SEGUE_mask-nfe_bfr-PDF_localfield_masked_masked.nii.gz\n",
            "Masked file saved: /Users/sirbucks/Documents/xQSM/2025-Summer-Research/QSM_data/sub-07/ses-04/qsm/sub-07_ses-04_unwrapped-SEGUE_mask-nfe_bfr-PDF_susc-autoNDI_Chimap_masked_masked.nii.gz\n",
            "Masked file saved: /Users/sirbucks/Documents/xQSM/2025-Summer-Research/QSM_data/sub-07/ses-05/qsm/sub-07_ses-05_unwrapped-SEGUE_mask-nfe_bfr-PDF_localfield_masked_masked.nii.gz\n",
            "Masked file saved: /Users/sirbucks/Documents/xQSM/2025-Summer-Research/QSM_data/sub-07/ses-05/qsm/sub-07_ses-05_unwrapped-SEGUE_mask-nfe_bfr-PDF_susc-autoNDI_Chimap_masked_masked.nii.gz\n",
            "Masked file saved: /Users/sirbucks/Documents/xQSM/2025-Summer-Research/QSM_data/sub-06/ses-06/qsm/sub-06_ses-06_unwrapped-SEGUE_mask-nfe_bfr-PDF_localfield_masked_masked.nii.gz\n",
            "Masked file saved: /Users/sirbucks/Documents/xQSM/2025-Summer-Research/QSM_data/sub-06/ses-06/qsm/sub-06_ses-06_unwrapped-SEGUE_mask-nfe_bfr-PDF_susc-autoNDI_Chimap_masked_masked.nii.gz\n",
            "Masked file saved: /Users/sirbucks/Documents/xQSM/2025-Summer-Research/QSM_data/sub-01/ses-01/qsm/sub-01_ses-01_unwrapped-SEGUE_mask-nfe_bfr-PDF_localfield_masked_masked.nii.gz\n",
            "Masked file saved: /Users/sirbucks/Documents/xQSM/2025-Summer-Research/QSM_data/sub-01/ses-01/qsm/sub-01_ses-01_unwrapped-SEGUE_mask-nfe_bfr-PDF_susc-autoNDI_Chimap_masked_masked.nii.gz\n",
            "Masked file saved: /Users/sirbucks/Documents/xQSM/2025-Summer-Research/QSM_data/sub-06/ses-04/qsm/sub-06_ses-04_unwrapped-SEGUE_mask-nfe_bfr-PDF_localfield_masked_masked.nii.gz\n",
            "Masked file saved: /Users/sirbucks/Documents/xQSM/2025-Summer-Research/QSM_data/sub-06/ses-04/qsm/sub-06_ses-04_unwrapped-SEGUE_mask-nfe_bfr-PDF_susc-autoNDI_Chimap_masked_masked.nii.gz\n",
            "Masked file saved: /Users/sirbucks/Documents/xQSM/2025-Summer-Research/QSM_data/sub-01/ses-02/qsm/sub-01_ses-02_unwrapped-SEGUE_mask-nfe_bfr-PDF_localfield_masked_masked.nii.gz\n",
            "Masked file saved: /Users/sirbucks/Documents/xQSM/2025-Summer-Research/QSM_data/sub-01/ses-02/qsm/sub-01_ses-02_unwrapped-SEGUE_mask-nfe_bfr-PDF_susc-autoNDI_Chimap_masked_masked.nii.gz\n",
            "Masked file saved: /Users/sirbucks/Documents/xQSM/2025-Summer-Research/QSM_data/sub-06/ses-05/qsm/sub-06_ses-05_unwrapped-SEGUE_mask-nfe_bfr-PDF_localfield_masked_masked.nii.gz\n",
            "Masked file saved: /Users/sirbucks/Documents/xQSM/2025-Summer-Research/QSM_data/sub-06/ses-05/qsm/sub-06_ses-05_unwrapped-SEGUE_mask-nfe_bfr-PDF_susc-autoNDI_Chimap_masked_masked.nii.gz\n",
            "Masked file saved: /Users/sirbucks/Documents/xQSM/2025-Summer-Research/QSM_data/sub-01/ses-03/qsm/sub-01_ses-03_unwrapped-SEGUE_mask-nfe_bfr-PDF_localfield_masked_masked.nii.gz\n",
            "Masked file saved: /Users/sirbucks/Documents/xQSM/2025-Summer-Research/QSM_data/sub-01/ses-03/qsm/sub-01_ses-03_unwrapped-SEGUE_mask-nfe_bfr-PDF_susc-autoNDI_Chimap_masked_masked.nii.gz\n",
            "Masked file saved: /Users/sirbucks/Documents/xQSM/2025-Summer-Research/QSM_data/sub-10/ses-02/qsm/sub-10_ses-02_unwrapped-SEGUE_mask-nfe_bfr-PDF_localfield_masked_masked.nii.gz\n",
            "Masked file saved: /Users/sirbucks/Documents/xQSM/2025-Summer-Research/QSM_data/sub-10/ses-02/qsm/sub-10_ses-02_unwrapped-SEGUE_mask-nfe_bfr-PDF_susc-autoNDI_Chimap_masked_masked.nii.gz\n",
            "Masked file saved: /Users/sirbucks/Documents/xQSM/2025-Summer-Research/QSM_data/sub-06/ses-03/qsm/sub-06_ses-03_unwrapped-SEGUE_mask-nfe_bfr-PDF_localfield_masked_masked.nii.gz\n",
            "Masked file saved: /Users/sirbucks/Documents/xQSM/2025-Summer-Research/QSM_data/sub-06/ses-03/qsm/sub-06_ses-03_unwrapped-SEGUE_mask-nfe_bfr-PDF_susc-autoNDI_Chimap_masked_masked.nii.gz\n",
            "Masked file saved: /Users/sirbucks/Documents/xQSM/2025-Summer-Research/QSM_data/sub-01/ses-05/qsm/sub-01_ses-05_unwrapped-SEGUE_mask-nfe_bfr-PDF_localfield_masked_masked.nii.gz\n",
            "Masked file saved: /Users/sirbucks/Documents/xQSM/2025-Summer-Research/QSM_data/sub-01/ses-05/qsm/sub-01_ses-05_unwrapped-SEGUE_mask-nfe_bfr-PDF_susc-autoNDI_Chimap_masked_masked.nii.gz\n",
            "Masked file saved: /Users/sirbucks/Documents/xQSM/2025-Summer-Research/QSM_data/sub-06/ses-02/qsm/sub-06_ses-02_unwrapped-SEGUE_mask-nfe_bfr-PDF_localfield_masked_masked.nii.gz\n",
            "Masked file saved: /Users/sirbucks/Documents/xQSM/2025-Summer-Research/QSM_data/sub-06/ses-02/qsm/sub-06_ses-02_unwrapped-SEGUE_mask-nfe_bfr-PDF_susc-autoNDI_Chimap_masked_masked.nii.gz\n",
            "Masked file saved: /Users/sirbucks/Documents/xQSM/2025-Summer-Research/QSM_data/sub-01/ses-04/qsm/sub-01_ses-04_unwrapped-SEGUE_mask-nfe_bfr-PDF_localfield_masked_masked.nii.gz\n",
            "Masked file saved: /Users/sirbucks/Documents/xQSM/2025-Summer-Research/QSM_data/sub-01/ses-04/qsm/sub-01_ses-04_unwrapped-SEGUE_mask-nfe_bfr-PDF_susc-autoNDI_Chimap_masked_masked.nii.gz\n",
            "Masked file saved: /Users/sirbucks/Documents/xQSM/2025-Summer-Research/QSM_data/sub-06/ses-01/qsm/sub-06_ses-01_unwrapped-SEGUE_mask-nfe_bfr-PDF_localfield_masked_masked.nii.gz\n",
            "Masked file saved: /Users/sirbucks/Documents/xQSM/2025-Summer-Research/QSM_data/sub-06/ses-01/qsm/sub-06_ses-01_unwrapped-SEGUE_mask-nfe_bfr-PDF_susc-autoNDI_Chimap_masked_masked.nii.gz\n",
            "Masked file saved: /Users/sirbucks/Documents/xQSM/2025-Summer-Research/QSM_data/sub-01/ses-06/qsm/sub-01_ses-06_unwrapped-SEGUE_mask-nfe_bfr-PDF_localfield_masked_masked.nii.gz\n",
            "Masked file saved: /Users/sirbucks/Documents/xQSM/2025-Summer-Research/QSM_data/sub-01/ses-06/qsm/sub-01_ses-06_unwrapped-SEGUE_mask-nfe_bfr-PDF_susc-autoNDI_Chimap_masked_masked.nii.gz\n",
            "Masked file saved: /Users/sirbucks/Documents/xQSM/2025-Summer-Research/QSM_data/sub-10/ses-01/qsm/sub-10_ses-01_unwrapped-SEGUE_mask-nfe_bfr-PDF_localfield_masked_masked.nii.gz\n",
            "Masked file saved: /Users/sirbucks/Documents/xQSM/2025-Summer-Research/QSM_data/sub-10/ses-01/qsm/sub-10_ses-01_unwrapped-SEGUE_mask-nfe_bfr-PDF_susc-autoNDI_Chimap_masked_masked.nii.gz\n",
            "Masked file saved: /Users/sirbucks/Documents/xQSM/2025-Summer-Research/QSM_data/sub-03/ses-01/qsm/sub-03_ses-01_unwrapped-SEGUE_mask-nfe_bfr-PDF_localfield_masked_masked.nii.gz\n",
            "Masked file saved: /Users/sirbucks/Documents/xQSM/2025-Summer-Research/QSM_data/sub-03/ses-01/qsm/sub-03_ses-01_unwrapped-SEGUE_mask-nfe_bfr-PDF_susc-autoNDI_Chimap_masked_masked.nii.gz\n",
            "Masked file saved: /Users/sirbucks/Documents/xQSM/2025-Summer-Research/QSM_data/sub-08/ses-06/qsm/sub-08_ses-06_unwrapped-SEGUE_mask-nfe_bfr-PDF_localfield_masked_masked.nii.gz\n",
            "Masked file saved: /Users/sirbucks/Documents/xQSM/2025-Summer-Research/QSM_data/sub-08/ses-06/qsm/sub-08_ses-06_unwrapped-SEGUE_mask-nfe_bfr-PDF_susc-autoNDI_Chimap_masked_masked.nii.gz\n",
            "Masked file saved: /Users/sirbucks/Documents/xQSM/2025-Summer-Research/QSM_data/sub-08/ses-05/qsm/sub-08_ses-05_unwrapped-SEGUE_mask-nfe_bfr-PDF_localfield_masked_masked.nii.gz\n",
            "Masked file saved: /Users/sirbucks/Documents/xQSM/2025-Summer-Research/QSM_data/sub-08/ses-05/qsm/sub-08_ses-05_unwrapped-SEGUE_mask-nfe_bfr-PDF_susc-autoNDI_Chimap_masked_masked.nii.gz\n",
            "Masked file saved: /Users/sirbucks/Documents/xQSM/2025-Summer-Research/QSM_data/sub-08/ses-04/qsm/sub-08_ses-04_unwrapped-SEGUE_mask-nfe_bfr-PDF_localfield_masked_masked.nii.gz\n",
            "Masked file saved: /Users/sirbucks/Documents/xQSM/2025-Summer-Research/QSM_data/sub-08/ses-04/qsm/sub-08_ses-04_unwrapped-SEGUE_mask-nfe_bfr-PDF_susc-autoNDI_Chimap_masked_masked.nii.gz\n",
            "Masked file saved: /Users/sirbucks/Documents/xQSM/2025-Summer-Research/QSM_data/sub-03/ses-02/qsm/sub-03_ses-02_unwrapped-SEGUE_mask-nfe_bfr-PDF_localfield_masked_masked.nii.gz\n",
            "Masked file saved: /Users/sirbucks/Documents/xQSM/2025-Summer-Research/QSM_data/sub-03/ses-02/qsm/sub-03_ses-02_unwrapped-SEGUE_mask-nfe_bfr-PDF_susc-autoNDI_Chimap_masked_masked.nii.gz\n",
            "Masked file saved: /Users/sirbucks/Documents/xQSM/2025-Summer-Research/QSM_data/sub-08/ses-02/qsm/sub-08_ses-02_unwrapped-SEGUE_mask-nfe_bfr-PDF_localfield_masked_masked.nii.gz\n",
            "Masked file saved: /Users/sirbucks/Documents/xQSM/2025-Summer-Research/QSM_data/sub-08/ses-02/qsm/sub-08_ses-02_unwrapped-SEGUE_mask-nfe_bfr-PDF_susc-autoNDI_Chimap_masked_masked.nii.gz\n",
            "Masked file saved: /Users/sirbucks/Documents/xQSM/2025-Summer-Research/QSM_data/sub-03/ses-04/qsm/sub-03_ses-04_unwrapped-SEGUE_mask-nfe_bfr-PDF_localfield_masked_masked.nii.gz\n",
            "Masked file saved: /Users/sirbucks/Documents/xQSM/2025-Summer-Research/QSM_data/sub-03/ses-04/qsm/sub-03_ses-04_unwrapped-SEGUE_mask-nfe_bfr-PDF_susc-autoNDI_Chimap_masked_masked.nii.gz\n",
            "Masked file saved: /Users/sirbucks/Documents/xQSM/2025-Summer-Research/QSM_data/sub-08/ses-03/qsm/sub-08_ses-03_unwrapped-SEGUE_mask-nfe_bfr-PDF_localfield_masked_masked.nii.gz\n",
            "Masked file saved: /Users/sirbucks/Documents/xQSM/2025-Summer-Research/QSM_data/sub-08/ses-03/qsm/sub-08_ses-03_unwrapped-SEGUE_mask-nfe_bfr-PDF_susc-autoNDI_Chimap_masked_masked.nii.gz\n",
            "Masked file saved: /Users/sirbucks/Documents/xQSM/2025-Summer-Research/QSM_data/sub-03/ses-05/qsm/sub-03_ses-05_unwrapped-SEGUE_mask-nfe_bfr-PDF_localfield_masked_masked.nii.gz\n",
            "Masked file saved: /Users/sirbucks/Documents/xQSM/2025-Summer-Research/QSM_data/sub-03/ses-05/qsm/sub-03_ses-05_unwrapped-SEGUE_mask-nfe_bfr-PDF_susc-autoNDI_Chimap_masked_masked.nii.gz\n",
            "Masked file saved: /Users/sirbucks/Documents/xQSM/2025-Summer-Research/QSM_data/sub-03/ses-06/qsm/sub-03_ses-06_unwrapped-SEGUE_mask-nfe_bfr-PDF_localfield_masked_masked.nii.gz\n",
            "Masked file saved: /Users/sirbucks/Documents/xQSM/2025-Summer-Research/QSM_data/sub-03/ses-06/qsm/sub-03_ses-06_unwrapped-SEGUE_mask-nfe_bfr-PDF_susc-autoNDI_Chimap_masked_masked.nii.gz\n",
            "Masked file saved: /Users/sirbucks/Documents/xQSM/2025-Summer-Research/QSM_data/sub-08/ses-01/qsm/sub-08_ses-01_unwrapped-SEGUE_mask-nfe_bfr-PDF_localfield_masked_masked.nii.gz\n",
            "Masked file saved: /Users/sirbucks/Documents/xQSM/2025-Summer-Research/QSM_data/sub-08/ses-01/qsm/sub-08_ses-01_unwrapped-SEGUE_mask-nfe_bfr-PDF_susc-autoNDI_Chimap_masked_masked.nii.gz\n",
            "Masked file saved: /Users/sirbucks/Documents/xQSM/2025-Summer-Research/QSM_data/sub-02/ses-04/qsm/sub-02_ses-04_unwrapped-SEGUE_mask-nfe_bfr-PDF_localfield_masked_masked.nii.gz\n",
            "Masked file saved: /Users/sirbucks/Documents/xQSM/2025-Summer-Research/QSM_data/sub-02/ses-04/qsm/sub-02_ses-04_unwrapped-SEGUE_mask-nfe_bfr-PDF_susc-autoNDI_Chimap_masked_masked.nii.gz\n",
            "Masked file saved: /Users/sirbucks/Documents/xQSM/2025-Summer-Research/QSM_data/sub-05/ses-02/qsm/sub-05_ses-02_unwrapped-SEGUE_mask-nfe_bfr-PDF_localfield_masked_masked.nii.gz\n",
            "Masked file saved: /Users/sirbucks/Documents/xQSM/2025-Summer-Research/QSM_data/sub-05/ses-02/qsm/sub-05_ses-02_unwrapped-SEGUE_mask-nfe_bfr-PDF_susc-autoNDI_Chimap_masked_masked.nii.gz\n",
            "Masked file saved: /Users/sirbucks/Documents/xQSM/2025-Summer-Research/QSM_data/sub-09/ses-02/qsm/sub-09_ses-02_unwrapped-SEGUE_mask-nfe_bfr-PDF_localfield_masked_masked.nii.gz\n",
            "Masked file saved: /Users/sirbucks/Documents/xQSM/2025-Summer-Research/QSM_data/sub-09/ses-02/qsm/sub-09_ses-02_unwrapped-SEGUE_mask-nfe_bfr-PDF_susc-autoNDI_Chimap_masked_masked.nii.gz\n",
            "Masked file saved: /Users/sirbucks/Documents/xQSM/2025-Summer-Research/QSM_data/sub-02/ses-05/qsm/sub-02_ses-05_unwrapped-SEGUE_mask-nfe_bfr-PDF_localfield_masked_masked.nii.gz\n",
            "Masked file saved: /Users/sirbucks/Documents/xQSM/2025-Summer-Research/QSM_data/sub-02/ses-05/qsm/sub-02_ses-05_unwrapped-SEGUE_mask-nfe_bfr-PDF_susc-autoNDI_Chimap_masked_masked.nii.gz\n",
            "Masked file saved: /Users/sirbucks/Documents/xQSM/2025-Summer-Research/QSM_data/sub-09/ses-03/qsm/sub-09_ses-03_unwrapped-SEGUE_mask-nfe_bfr-PDF_localfield_masked_masked.nii.gz\n",
            "Masked file saved: /Users/sirbucks/Documents/xQSM/2025-Summer-Research/QSM_data/sub-09/ses-03/qsm/sub-09_ses-03_unwrapped-SEGUE_mask-nfe_bfr-PDF_susc-autoNDI_Chimap_masked_masked.nii.gz\n",
            "Masked file saved: /Users/sirbucks/Documents/xQSM/2025-Summer-Research/QSM_data/sub-05/ses-03/qsm/sub-05_ses-03_unwrapped-SEGUE_mask-nfe_bfr-PDF_localfield_masked_masked.nii.gz\n",
            "Masked file saved: /Users/sirbucks/Documents/xQSM/2025-Summer-Research/QSM_data/sub-05/ses-03/qsm/sub-05_ses-03_unwrapped-SEGUE_mask-nfe_bfr-PDF_susc-autoNDI_Chimap_masked_masked.nii.gz\n",
            "Masked file saved: /Users/sirbucks/Documents/xQSM/2025-Summer-Research/QSM_data/sub-02/ses-06/qsm/sub-02_ses-06_unwrapped-SEGUE_mask-nfe_bfr-PDF_localfield_masked_masked.nii.gz\n",
            "Masked file saved: /Users/sirbucks/Documents/xQSM/2025-Summer-Research/QSM_data/sub-02/ses-06/qsm/sub-02_ses-06_unwrapped-SEGUE_mask-nfe_bfr-PDF_susc-autoNDI_Chimap_masked_masked.nii.gz\n",
            "Masked file saved: /Users/sirbucks/Documents/xQSM/2025-Summer-Research/QSM_data/sub-05/ses-01/qsm/sub-05_ses-01_unwrapped-SEGUE_mask-nfe_bfr-PDF_localfield_masked_masked.nii.gz\n",
            "Masked file saved: /Users/sirbucks/Documents/xQSM/2025-Summer-Research/QSM_data/sub-05/ses-01/qsm/sub-05_ses-01_unwrapped-SEGUE_mask-nfe_bfr-PDF_susc-autoNDI_Chimap_masked_masked.nii.gz\n",
            "Masked file saved: /Users/sirbucks/Documents/xQSM/2025-Summer-Research/QSM_data/sub-09/ses-01/qsm/sub-09_ses-01_unwrapped-SEGUE_mask-nfe_bfr-PDF_localfield_masked_masked.nii.gz\n",
            "Masked file saved: /Users/sirbucks/Documents/xQSM/2025-Summer-Research/QSM_data/sub-09/ses-01/qsm/sub-09_ses-01_unwrapped-SEGUE_mask-nfe_bfr-PDF_susc-autoNDI_Chimap_masked_masked.nii.gz\n",
            "Masked file saved: /Users/sirbucks/Documents/xQSM/2025-Summer-Research/QSM_data/sub-02/ses-01/qsm/sub-02_ses-01_unwrapped-SEGUE_mask-nfe_bfr-PDF_localfield_masked_masked.nii.gz\n",
            "Masked file saved: /Users/sirbucks/Documents/xQSM/2025-Summer-Research/QSM_data/sub-02/ses-01/qsm/sub-02_ses-01_unwrapped-SEGUE_mask-nfe_bfr-PDF_susc-autoNDI_Chimap_masked_masked.nii.gz\n",
            "Masked file saved: /Users/sirbucks/Documents/xQSM/2025-Summer-Research/QSM_data/sub-05/ses-06/qsm/sub-05_ses-06_unwrapped-SEGUE_mask-nfe_bfr-PDF_localfield_masked_masked.nii.gz\n",
            "Masked file saved: /Users/sirbucks/Documents/xQSM/2025-Summer-Research/QSM_data/sub-05/ses-06/qsm/sub-05_ses-06_unwrapped-SEGUE_mask-nfe_bfr-PDF_susc-autoNDI_Chimap_masked_masked.nii.gz\n",
            "Masked file saved: /Users/sirbucks/Documents/xQSM/2025-Summer-Research/QSM_data/sub-09/ses-06/qsm/sub-09_ses-06_unwrapped-SEGUE_mask-nfe_bfr-PDF_localfield_masked_masked.nii.gz\n",
            "Masked file saved: /Users/sirbucks/Documents/xQSM/2025-Summer-Research/QSM_data/sub-09/ses-06/qsm/sub-09_ses-06_unwrapped-SEGUE_mask-nfe_bfr-PDF_susc-autoNDI_Chimap_masked_masked.nii.gz\n",
            "Masked file saved: /Users/sirbucks/Documents/xQSM/2025-Summer-Research/QSM_data/sub-02/ses-03/qsm/sub-02_ses-03_unwrapped-SEGUE_mask-nfe_bfr-PDF_localfield_masked_masked.nii.gz\n",
            "Masked file saved: /Users/sirbucks/Documents/xQSM/2025-Summer-Research/QSM_data/sub-02/ses-03/qsm/sub-02_ses-03_unwrapped-SEGUE_mask-nfe_bfr-PDF_susc-autoNDI_Chimap_masked_masked.nii.gz\n",
            "Masked file saved: /Users/sirbucks/Documents/xQSM/2025-Summer-Research/QSM_data/sub-05/ses-05/qsm/sub-05_ses-05_unwrapped-SEGUE_mask-nfe_bfr-PDF_localfield_masked_masked.nii.gz\n",
            "Masked file saved: /Users/sirbucks/Documents/xQSM/2025-Summer-Research/QSM_data/sub-05/ses-05/qsm/sub-05_ses-05_unwrapped-SEGUE_mask-nfe_bfr-PDF_susc-autoNDI_Chimap_masked_masked.nii.gz\n",
            "Masked file saved: /Users/sirbucks/Documents/xQSM/2025-Summer-Research/QSM_data/sub-09/ses-05/qsm/sub-09_ses-05_unwrapped-SEGUE_mask-nfe_bfr-PDF_localfield_masked_masked.nii.gz\n",
            "Masked file saved: /Users/sirbucks/Documents/xQSM/2025-Summer-Research/QSM_data/sub-09/ses-05/qsm/sub-09_ses-05_unwrapped-SEGUE_mask-nfe_bfr-PDF_susc-autoNDI_Chimap_masked_masked.nii.gz\n",
            "Masked file saved: /Users/sirbucks/Documents/xQSM/2025-Summer-Research/QSM_data/sub-02/ses-02/qsm/sub-02_ses-02_unwrapped-SEGUE_mask-nfe_bfr-PDF_localfield_masked_masked.nii.gz\n",
            "Masked file saved: /Users/sirbucks/Documents/xQSM/2025-Summer-Research/QSM_data/sub-02/ses-02/qsm/sub-02_ses-02_unwrapped-SEGUE_mask-nfe_bfr-PDF_susc-autoNDI_Chimap_masked_masked.nii.gz\n",
            "Masked file saved: /Users/sirbucks/Documents/xQSM/2025-Summer-Research/QSM_data/sub-09/ses-04/qsm/sub-09_ses-04_unwrapped-SEGUE_mask-nfe_bfr-PDF_localfield_masked_masked.nii.gz\n",
            "Masked file saved: /Users/sirbucks/Documents/xQSM/2025-Summer-Research/QSM_data/sub-09/ses-04/qsm/sub-09_ses-04_unwrapped-SEGUE_mask-nfe_bfr-PDF_susc-autoNDI_Chimap_masked_masked.nii.gz\n",
            "Masked file saved: /Users/sirbucks/Documents/xQSM/2025-Summer-Research/QSM_data/sub-05/ses-04/qsm/sub-05_ses-04_unwrapped-SEGUE_mask-nfe_bfr-PDF_localfield_masked_masked.nii.gz\n",
            "Masked file saved: /Users/sirbucks/Documents/xQSM/2025-Summer-Research/QSM_data/sub-05/ses-04/qsm/sub-05_ses-04_unwrapped-SEGUE_mask-nfe_bfr-PDF_susc-autoNDI_Chimap_masked_masked.nii.gz\n"
          ]
        }
      ],
      "source": [
        "import os\n",
        "import nibabel as nib\n",
        "import numpy as np\n",
        "\n",
        "# Define paths\n",
        "data_path = \"/Users/sirbucks/Documents/xQSM/2025-Summer-Research/QSM_data/\"\n",
        "brain_masks_dir = os.path.join(data_path, \"Brain_Masks\")\n",
        "\n",
        "# Collect all brain mask files\n",
        "brain_masks = []\n",
        "for mask_file in os.listdir(brain_masks_dir):\n",
        "    if '.DS_Store' in mask_file:\n",
        "        continue\n",
        "    brain_masks.append(os.path.join(brain_masks_dir, mask_file))\n",
        "\n",
        "# For each brain mask, determine the subject/session and apply mask to the two files\n",
        "for mask_path in brain_masks:\n",
        "    mask_filename = os.path.basename(mask_path)\n",
        "    # Example mask_filename: sub-01_ses-01_Brain_Mask.nii.gz\n",
        "    # Extract subject and session from filename\n",
        "    parts = mask_filename.split('_')\n",
        "    sub = None\n",
        "    ses = None\n",
        "    for part in parts:\n",
        "        if part.startswith('sub-'):\n",
        "            sub = part\n",
        "        if part.startswith('ses-'):\n",
        "            ses = part\n",
        "    if sub and ses:\n",
        "        qsm_dir = os.path.join(data_path, sub, ses, 'qsm')\n",
        "        if not os.path.exists(qsm_dir):\n",
        "            print(f\"QSM directory does not exist for {sub} {ses}, skipping.\")\n",
        "            continue\n",
        "\n",
        "        # Load brain mask\n",
        "        mask_nii = nib.load(mask_path)\n",
        "        mask_data = mask_nii.get_fdata()\n",
        "        mask_bool = mask_data > 0\n",
        "\n",
        "        # Define the two files to mask\n",
        "        localfield_filename = f\"{sub}_{ses}_unwrapped-SEGUE_mask-nfe_bfr-PDF_localfield.nii.gz\"\n",
        "        chimap_filename = f\"{sub}_{ses}_unwrapped-SEGUE_mask-nfe_bfr-PDF_susc-autoNDI_Chimap.nii.gz\"\n",
        "\n",
        "        for target_filename in [localfield_filename, chimap_filename]:\n",
        "            target_path = os.path.join(qsm_dir, target_filename)\n",
        "            if not os.path.exists(target_path):\n",
        "                print(f\"File {target_path} not found, skipping.\")\n",
        "                continue\n",
        "\n",
        "            # Load target image\n",
        "            img_nii = nib.load(target_path)\n",
        "            img_data = img_nii.get_fdata()\n",
        "\n",
        "            # Apply mask\n",
        "            masked_data = np.where(mask_bool, img_data, 0)\n",
        "\n",
        "            # Save masked image to new file\n",
        "            masked_filename = target_filename.replace('.nii.gz', '_masked.nii.gz').replace('.nii.gz', '_masked.nii.gz')\n",
        "            masked_path = os.path.join(qsm_dir, masked_filename)\n",
        "            masked_nii = nib.Nifti1Image(masked_data, img_nii.affine, img_nii.header)\n",
        "            nib.save(masked_nii, masked_path)\n",
        "            print(f\"Masked file saved: {masked_path}\")\n",
        "    else:\n",
        "        print(f\"Could not determine subject/session for {mask_filename}\")\n"
      ]
    },
    {
      "cell_type": "markdown",
      "metadata": {},
      "source": [
        "The masks where well. Now I need to crop the masked images, because due to masking a lot of the slices are now empty. To do this I need to find the image dimensions between which there are non zero values and then I will decide on the size of the cropping that needs to be done."
      ]
    },
    {
      "cell_type": "code",
      "execution_count": 43,
      "metadata": {},
      "outputs": [
        {
          "name": "stdout",
          "output_type": "stream",
          "text": [
            "Cropped file saved: /Users/sirbucks/Documents/xQSM/2025-Summer-Research/QSM_data/sub-07/ses-03/qsm/sub-07_ses-03_unwrapped-SEGUE_mask-nfe_bfr-PDF_localfield_masked_cropped.nii.gz\n",
            "Cropped file saved: /Users/sirbucks/Documents/xQSM/2025-Summer-Research/QSM_data/sub-07/ses-03/qsm/sub-07_ses-03_unwrapped-SEGUE_mask-nfe_bfr-PDF_susc-autoNDI_Chimap_masked_cropped.nii.gz\n",
            "Cropped file saved: /Users/sirbucks/Documents/xQSM/2025-Summer-Research/QSM_data/sub-07/ses-02/qsm/sub-07_ses-02_unwrapped-SEGUE_mask-nfe_bfr-PDF_localfield_masked_cropped.nii.gz\n",
            "Cropped file saved: /Users/sirbucks/Documents/xQSM/2025-Summer-Research/QSM_data/sub-07/ses-02/qsm/sub-07_ses-02_unwrapped-SEGUE_mask-nfe_bfr-PDF_susc-autoNDI_Chimap_masked_cropped.nii.gz\n",
            "Cropped file saved: /Users/sirbucks/Documents/xQSM/2025-Summer-Research/QSM_data/sub-07/ses-01/qsm/sub-07_ses-01_unwrapped-SEGUE_mask-nfe_bfr-PDF_localfield_masked_cropped.nii.gz\n",
            "Cropped file saved: /Users/sirbucks/Documents/xQSM/2025-Summer-Research/QSM_data/sub-07/ses-01/qsm/sub-07_ses-01_unwrapped-SEGUE_mask-nfe_bfr-PDF_susc-autoNDI_Chimap_masked_cropped.nii.gz\n",
            "Cropped file saved: /Users/sirbucks/Documents/xQSM/2025-Summer-Research/QSM_data/sub-07/ses-06/qsm/sub-07_ses-06_unwrapped-SEGUE_mask-nfe_bfr-PDF_localfield_masked_cropped.nii.gz\n",
            "Cropped file saved: /Users/sirbucks/Documents/xQSM/2025-Summer-Research/QSM_data/sub-07/ses-06/qsm/sub-07_ses-06_unwrapped-SEGUE_mask-nfe_bfr-PDF_susc-autoNDI_Chimap_masked_cropped.nii.gz\n",
            "Cropped file saved: /Users/sirbucks/Documents/xQSM/2025-Summer-Research/QSM_data/sub-07/ses-04/qsm/sub-07_ses-04_unwrapped-SEGUE_mask-nfe_bfr-PDF_localfield_masked_cropped.nii.gz\n",
            "Cropped file saved: /Users/sirbucks/Documents/xQSM/2025-Summer-Research/QSM_data/sub-07/ses-04/qsm/sub-07_ses-04_unwrapped-SEGUE_mask-nfe_bfr-PDF_susc-autoNDI_Chimap_masked_cropped.nii.gz\n",
            "Cropped file saved: /Users/sirbucks/Documents/xQSM/2025-Summer-Research/QSM_data/sub-07/ses-05/qsm/sub-07_ses-05_unwrapped-SEGUE_mask-nfe_bfr-PDF_localfield_masked_cropped.nii.gz\n",
            "Cropped file saved: /Users/sirbucks/Documents/xQSM/2025-Summer-Research/QSM_data/sub-07/ses-05/qsm/sub-07_ses-05_unwrapped-SEGUE_mask-nfe_bfr-PDF_susc-autoNDI_Chimap_masked_cropped.nii.gz\n",
            "Cropped file saved: /Users/sirbucks/Documents/xQSM/2025-Summer-Research/QSM_data/sub-06/ses-06/qsm/sub-06_ses-06_unwrapped-SEGUE_mask-nfe_bfr-PDF_localfield_masked_cropped.nii.gz\n",
            "Cropped file saved: /Users/sirbucks/Documents/xQSM/2025-Summer-Research/QSM_data/sub-06/ses-06/qsm/sub-06_ses-06_unwrapped-SEGUE_mask-nfe_bfr-PDF_susc-autoNDI_Chimap_masked_cropped.nii.gz\n",
            "Cropped file saved: /Users/sirbucks/Documents/xQSM/2025-Summer-Research/QSM_data/sub-01/ses-01/qsm/sub-01_ses-01_unwrapped-SEGUE_mask-nfe_bfr-PDF_localfield_masked_cropped.nii.gz\n",
            "Cropped file saved: /Users/sirbucks/Documents/xQSM/2025-Summer-Research/QSM_data/sub-01/ses-01/qsm/sub-01_ses-01_unwrapped-SEGUE_mask-nfe_bfr-PDF_susc-autoNDI_Chimap_masked_cropped.nii.gz\n",
            "Cropped file saved: /Users/sirbucks/Documents/xQSM/2025-Summer-Research/QSM_data/sub-06/ses-04/qsm/sub-06_ses-04_unwrapped-SEGUE_mask-nfe_bfr-PDF_localfield_masked_cropped.nii.gz\n",
            "Cropped file saved: /Users/sirbucks/Documents/xQSM/2025-Summer-Research/QSM_data/sub-06/ses-04/qsm/sub-06_ses-04_unwrapped-SEGUE_mask-nfe_bfr-PDF_susc-autoNDI_Chimap_masked_cropped.nii.gz\n",
            "Cropped file saved: /Users/sirbucks/Documents/xQSM/2025-Summer-Research/QSM_data/sub-01/ses-02/qsm/sub-01_ses-02_unwrapped-SEGUE_mask-nfe_bfr-PDF_localfield_masked_cropped.nii.gz\n",
            "Cropped file saved: /Users/sirbucks/Documents/xQSM/2025-Summer-Research/QSM_data/sub-01/ses-02/qsm/sub-01_ses-02_unwrapped-SEGUE_mask-nfe_bfr-PDF_susc-autoNDI_Chimap_masked_cropped.nii.gz\n",
            "Cropped file saved: /Users/sirbucks/Documents/xQSM/2025-Summer-Research/QSM_data/sub-06/ses-05/qsm/sub-06_ses-05_unwrapped-SEGUE_mask-nfe_bfr-PDF_localfield_masked_cropped.nii.gz\n",
            "Cropped file saved: /Users/sirbucks/Documents/xQSM/2025-Summer-Research/QSM_data/sub-06/ses-05/qsm/sub-06_ses-05_unwrapped-SEGUE_mask-nfe_bfr-PDF_susc-autoNDI_Chimap_masked_cropped.nii.gz\n",
            "Cropped file saved: /Users/sirbucks/Documents/xQSM/2025-Summer-Research/QSM_data/sub-01/ses-03/qsm/sub-01_ses-03_unwrapped-SEGUE_mask-nfe_bfr-PDF_localfield_masked_cropped.nii.gz\n",
            "Cropped file saved: /Users/sirbucks/Documents/xQSM/2025-Summer-Research/QSM_data/sub-01/ses-03/qsm/sub-01_ses-03_unwrapped-SEGUE_mask-nfe_bfr-PDF_susc-autoNDI_Chimap_masked_cropped.nii.gz\n",
            "Cropped file saved: /Users/sirbucks/Documents/xQSM/2025-Summer-Research/QSM_data/sub-10/ses-02/qsm/sub-10_ses-02_unwrapped-SEGUE_mask-nfe_bfr-PDF_localfield_masked_cropped.nii.gz\n",
            "Cropped file saved: /Users/sirbucks/Documents/xQSM/2025-Summer-Research/QSM_data/sub-10/ses-02/qsm/sub-10_ses-02_unwrapped-SEGUE_mask-nfe_bfr-PDF_susc-autoNDI_Chimap_masked_cropped.nii.gz\n",
            "Cropped file saved: /Users/sirbucks/Documents/xQSM/2025-Summer-Research/QSM_data/sub-06/ses-03/qsm/sub-06_ses-03_unwrapped-SEGUE_mask-nfe_bfr-PDF_localfield_masked_cropped.nii.gz\n",
            "Cropped file saved: /Users/sirbucks/Documents/xQSM/2025-Summer-Research/QSM_data/sub-06/ses-03/qsm/sub-06_ses-03_unwrapped-SEGUE_mask-nfe_bfr-PDF_susc-autoNDI_Chimap_masked_cropped.nii.gz\n",
            "Cropped file saved: /Users/sirbucks/Documents/xQSM/2025-Summer-Research/QSM_data/sub-01/ses-05/qsm/sub-01_ses-05_unwrapped-SEGUE_mask-nfe_bfr-PDF_localfield_masked_cropped.nii.gz\n",
            "Cropped file saved: /Users/sirbucks/Documents/xQSM/2025-Summer-Research/QSM_data/sub-01/ses-05/qsm/sub-01_ses-05_unwrapped-SEGUE_mask-nfe_bfr-PDF_susc-autoNDI_Chimap_masked_cropped.nii.gz\n",
            "Cropped file saved: /Users/sirbucks/Documents/xQSM/2025-Summer-Research/QSM_data/sub-06/ses-02/qsm/sub-06_ses-02_unwrapped-SEGUE_mask-nfe_bfr-PDF_localfield_masked_cropped.nii.gz\n",
            "Cropped file saved: /Users/sirbucks/Documents/xQSM/2025-Summer-Research/QSM_data/sub-06/ses-02/qsm/sub-06_ses-02_unwrapped-SEGUE_mask-nfe_bfr-PDF_susc-autoNDI_Chimap_masked_cropped.nii.gz\n",
            "Cropped file saved: /Users/sirbucks/Documents/xQSM/2025-Summer-Research/QSM_data/sub-01/ses-04/qsm/sub-01_ses-04_unwrapped-SEGUE_mask-nfe_bfr-PDF_localfield_masked_cropped.nii.gz\n",
            "Cropped file saved: /Users/sirbucks/Documents/xQSM/2025-Summer-Research/QSM_data/sub-01/ses-04/qsm/sub-01_ses-04_unwrapped-SEGUE_mask-nfe_bfr-PDF_susc-autoNDI_Chimap_masked_cropped.nii.gz\n",
            "Cropped file saved: /Users/sirbucks/Documents/xQSM/2025-Summer-Research/QSM_data/sub-06/ses-01/qsm/sub-06_ses-01_unwrapped-SEGUE_mask-nfe_bfr-PDF_localfield_masked_cropped.nii.gz\n",
            "Cropped file saved: /Users/sirbucks/Documents/xQSM/2025-Summer-Research/QSM_data/sub-06/ses-01/qsm/sub-06_ses-01_unwrapped-SEGUE_mask-nfe_bfr-PDF_susc-autoNDI_Chimap_masked_cropped.nii.gz\n",
            "Cropped file saved: /Users/sirbucks/Documents/xQSM/2025-Summer-Research/QSM_data/sub-01/ses-06/qsm/sub-01_ses-06_unwrapped-SEGUE_mask-nfe_bfr-PDF_localfield_masked_cropped.nii.gz\n",
            "Cropped file saved: /Users/sirbucks/Documents/xQSM/2025-Summer-Research/QSM_data/sub-01/ses-06/qsm/sub-01_ses-06_unwrapped-SEGUE_mask-nfe_bfr-PDF_susc-autoNDI_Chimap_masked_cropped.nii.gz\n",
            "Cropped file saved: /Users/sirbucks/Documents/xQSM/2025-Summer-Research/QSM_data/sub-10/ses-01/qsm/sub-10_ses-01_unwrapped-SEGUE_mask-nfe_bfr-PDF_localfield_masked_cropped.nii.gz\n",
            "Cropped file saved: /Users/sirbucks/Documents/xQSM/2025-Summer-Research/QSM_data/sub-10/ses-01/qsm/sub-10_ses-01_unwrapped-SEGUE_mask-nfe_bfr-PDF_susc-autoNDI_Chimap_masked_cropped.nii.gz\n",
            "Cropped file saved: /Users/sirbucks/Documents/xQSM/2025-Summer-Research/QSM_data/sub-03/ses-01/qsm/sub-03_ses-01_unwrapped-SEGUE_mask-nfe_bfr-PDF_localfield_masked_cropped.nii.gz\n",
            "Cropped file saved: /Users/sirbucks/Documents/xQSM/2025-Summer-Research/QSM_data/sub-03/ses-01/qsm/sub-03_ses-01_unwrapped-SEGUE_mask-nfe_bfr-PDF_susc-autoNDI_Chimap_masked_cropped.nii.gz\n",
            "Cropped file saved: /Users/sirbucks/Documents/xQSM/2025-Summer-Research/QSM_data/sub-08/ses-06/qsm/sub-08_ses-06_unwrapped-SEGUE_mask-nfe_bfr-PDF_localfield_masked_cropped.nii.gz\n",
            "Cropped file saved: /Users/sirbucks/Documents/xQSM/2025-Summer-Research/QSM_data/sub-08/ses-06/qsm/sub-08_ses-06_unwrapped-SEGUE_mask-nfe_bfr-PDF_susc-autoNDI_Chimap_masked_cropped.nii.gz\n",
            "Cropped file saved: /Users/sirbucks/Documents/xQSM/2025-Summer-Research/QSM_data/sub-08/ses-05/qsm/sub-08_ses-05_unwrapped-SEGUE_mask-nfe_bfr-PDF_localfield_masked_cropped.nii.gz\n",
            "Cropped file saved: /Users/sirbucks/Documents/xQSM/2025-Summer-Research/QSM_data/sub-08/ses-05/qsm/sub-08_ses-05_unwrapped-SEGUE_mask-nfe_bfr-PDF_susc-autoNDI_Chimap_masked_cropped.nii.gz\n",
            "Cropped file saved: /Users/sirbucks/Documents/xQSM/2025-Summer-Research/QSM_data/sub-08/ses-04/qsm/sub-08_ses-04_unwrapped-SEGUE_mask-nfe_bfr-PDF_localfield_masked_cropped.nii.gz\n",
            "Cropped file saved: /Users/sirbucks/Documents/xQSM/2025-Summer-Research/QSM_data/sub-08/ses-04/qsm/sub-08_ses-04_unwrapped-SEGUE_mask-nfe_bfr-PDF_susc-autoNDI_Chimap_masked_cropped.nii.gz\n",
            "Cropped file saved: /Users/sirbucks/Documents/xQSM/2025-Summer-Research/QSM_data/sub-03/ses-02/qsm/sub-03_ses-02_unwrapped-SEGUE_mask-nfe_bfr-PDF_localfield_masked_cropped.nii.gz\n",
            "Cropped file saved: /Users/sirbucks/Documents/xQSM/2025-Summer-Research/QSM_data/sub-03/ses-02/qsm/sub-03_ses-02_unwrapped-SEGUE_mask-nfe_bfr-PDF_susc-autoNDI_Chimap_masked_cropped.nii.gz\n",
            "Cropped file saved: /Users/sirbucks/Documents/xQSM/2025-Summer-Research/QSM_data/sub-08/ses-02/qsm/sub-08_ses-02_unwrapped-SEGUE_mask-nfe_bfr-PDF_localfield_masked_cropped.nii.gz\n",
            "Cropped file saved: /Users/sirbucks/Documents/xQSM/2025-Summer-Research/QSM_data/sub-08/ses-02/qsm/sub-08_ses-02_unwrapped-SEGUE_mask-nfe_bfr-PDF_susc-autoNDI_Chimap_masked_cropped.nii.gz\n",
            "Cropped file saved: /Users/sirbucks/Documents/xQSM/2025-Summer-Research/QSM_data/sub-03/ses-04/qsm/sub-03_ses-04_unwrapped-SEGUE_mask-nfe_bfr-PDF_localfield_masked_cropped.nii.gz\n",
            "Cropped file saved: /Users/sirbucks/Documents/xQSM/2025-Summer-Research/QSM_data/sub-03/ses-04/qsm/sub-03_ses-04_unwrapped-SEGUE_mask-nfe_bfr-PDF_susc-autoNDI_Chimap_masked_cropped.nii.gz\n",
            "Cropped file saved: /Users/sirbucks/Documents/xQSM/2025-Summer-Research/QSM_data/sub-08/ses-03/qsm/sub-08_ses-03_unwrapped-SEGUE_mask-nfe_bfr-PDF_localfield_masked_cropped.nii.gz\n",
            "Cropped file saved: /Users/sirbucks/Documents/xQSM/2025-Summer-Research/QSM_data/sub-08/ses-03/qsm/sub-08_ses-03_unwrapped-SEGUE_mask-nfe_bfr-PDF_susc-autoNDI_Chimap_masked_cropped.nii.gz\n",
            "Cropped file saved: /Users/sirbucks/Documents/xQSM/2025-Summer-Research/QSM_data/sub-03/ses-05/qsm/sub-03_ses-05_unwrapped-SEGUE_mask-nfe_bfr-PDF_localfield_masked_cropped.nii.gz\n",
            "Cropped file saved: /Users/sirbucks/Documents/xQSM/2025-Summer-Research/QSM_data/sub-03/ses-05/qsm/sub-03_ses-05_unwrapped-SEGUE_mask-nfe_bfr-PDF_susc-autoNDI_Chimap_masked_cropped.nii.gz\n",
            "Cropped file saved: /Users/sirbucks/Documents/xQSM/2025-Summer-Research/QSM_data/sub-03/ses-06/qsm/sub-03_ses-06_unwrapped-SEGUE_mask-nfe_bfr-PDF_localfield_masked_cropped.nii.gz\n",
            "Cropped file saved: /Users/sirbucks/Documents/xQSM/2025-Summer-Research/QSM_data/sub-03/ses-06/qsm/sub-03_ses-06_unwrapped-SEGUE_mask-nfe_bfr-PDF_susc-autoNDI_Chimap_masked_cropped.nii.gz\n",
            "Cropped file saved: /Users/sirbucks/Documents/xQSM/2025-Summer-Research/QSM_data/sub-08/ses-01/qsm/sub-08_ses-01_unwrapped-SEGUE_mask-nfe_bfr-PDF_localfield_masked_cropped.nii.gz\n",
            "Cropped file saved: /Users/sirbucks/Documents/xQSM/2025-Summer-Research/QSM_data/sub-08/ses-01/qsm/sub-08_ses-01_unwrapped-SEGUE_mask-nfe_bfr-PDF_susc-autoNDI_Chimap_masked_cropped.nii.gz\n",
            "Cropped file saved: /Users/sirbucks/Documents/xQSM/2025-Summer-Research/QSM_data/sub-02/ses-04/qsm/sub-02_ses-04_unwrapped-SEGUE_mask-nfe_bfr-PDF_localfield_masked_cropped.nii.gz\n",
            "Cropped file saved: /Users/sirbucks/Documents/xQSM/2025-Summer-Research/QSM_data/sub-02/ses-04/qsm/sub-02_ses-04_unwrapped-SEGUE_mask-nfe_bfr-PDF_susc-autoNDI_Chimap_masked_cropped.nii.gz\n",
            "Cropped file saved: /Users/sirbucks/Documents/xQSM/2025-Summer-Research/QSM_data/sub-05/ses-02/qsm/sub-05_ses-02_unwrapped-SEGUE_mask-nfe_bfr-PDF_localfield_masked_cropped.nii.gz\n",
            "Cropped file saved: /Users/sirbucks/Documents/xQSM/2025-Summer-Research/QSM_data/sub-05/ses-02/qsm/sub-05_ses-02_unwrapped-SEGUE_mask-nfe_bfr-PDF_susc-autoNDI_Chimap_masked_cropped.nii.gz\n",
            "Cropped file saved: /Users/sirbucks/Documents/xQSM/2025-Summer-Research/QSM_data/sub-09/ses-02/qsm/sub-09_ses-02_unwrapped-SEGUE_mask-nfe_bfr-PDF_localfield_masked_cropped.nii.gz\n",
            "Cropped file saved: /Users/sirbucks/Documents/xQSM/2025-Summer-Research/QSM_data/sub-09/ses-02/qsm/sub-09_ses-02_unwrapped-SEGUE_mask-nfe_bfr-PDF_susc-autoNDI_Chimap_masked_cropped.nii.gz\n",
            "Cropped file saved: /Users/sirbucks/Documents/xQSM/2025-Summer-Research/QSM_data/sub-02/ses-05/qsm/sub-02_ses-05_unwrapped-SEGUE_mask-nfe_bfr-PDF_localfield_masked_cropped.nii.gz\n",
            "Cropped file saved: /Users/sirbucks/Documents/xQSM/2025-Summer-Research/QSM_data/sub-02/ses-05/qsm/sub-02_ses-05_unwrapped-SEGUE_mask-nfe_bfr-PDF_susc-autoNDI_Chimap_masked_cropped.nii.gz\n",
            "Cropped file saved: /Users/sirbucks/Documents/xQSM/2025-Summer-Research/QSM_data/sub-09/ses-03/qsm/sub-09_ses-03_unwrapped-SEGUE_mask-nfe_bfr-PDF_localfield_masked_cropped.nii.gz\n",
            "Cropped file saved: /Users/sirbucks/Documents/xQSM/2025-Summer-Research/QSM_data/sub-09/ses-03/qsm/sub-09_ses-03_unwrapped-SEGUE_mask-nfe_bfr-PDF_susc-autoNDI_Chimap_masked_cropped.nii.gz\n",
            "Cropped file saved: /Users/sirbucks/Documents/xQSM/2025-Summer-Research/QSM_data/sub-05/ses-03/qsm/sub-05_ses-03_unwrapped-SEGUE_mask-nfe_bfr-PDF_localfield_masked_cropped.nii.gz\n",
            "Cropped file saved: /Users/sirbucks/Documents/xQSM/2025-Summer-Research/QSM_data/sub-05/ses-03/qsm/sub-05_ses-03_unwrapped-SEGUE_mask-nfe_bfr-PDF_susc-autoNDI_Chimap_masked_cropped.nii.gz\n",
            "Cropped file saved: /Users/sirbucks/Documents/xQSM/2025-Summer-Research/QSM_data/sub-02/ses-06/qsm/sub-02_ses-06_unwrapped-SEGUE_mask-nfe_bfr-PDF_localfield_masked_cropped.nii.gz\n",
            "Cropped file saved: /Users/sirbucks/Documents/xQSM/2025-Summer-Research/QSM_data/sub-02/ses-06/qsm/sub-02_ses-06_unwrapped-SEGUE_mask-nfe_bfr-PDF_susc-autoNDI_Chimap_masked_cropped.nii.gz\n",
            "Cropped file saved: /Users/sirbucks/Documents/xQSM/2025-Summer-Research/QSM_data/sub-05/ses-01/qsm/sub-05_ses-01_unwrapped-SEGUE_mask-nfe_bfr-PDF_localfield_masked_cropped.nii.gz\n",
            "Cropped file saved: /Users/sirbucks/Documents/xQSM/2025-Summer-Research/QSM_data/sub-05/ses-01/qsm/sub-05_ses-01_unwrapped-SEGUE_mask-nfe_bfr-PDF_susc-autoNDI_Chimap_masked_cropped.nii.gz\n",
            "Cropped file saved: /Users/sirbucks/Documents/xQSM/2025-Summer-Research/QSM_data/sub-09/ses-01/qsm/sub-09_ses-01_unwrapped-SEGUE_mask-nfe_bfr-PDF_localfield_masked_cropped.nii.gz\n",
            "Cropped file saved: /Users/sirbucks/Documents/xQSM/2025-Summer-Research/QSM_data/sub-09/ses-01/qsm/sub-09_ses-01_unwrapped-SEGUE_mask-nfe_bfr-PDF_susc-autoNDI_Chimap_masked_cropped.nii.gz\n",
            "Cropped file saved: /Users/sirbucks/Documents/xQSM/2025-Summer-Research/QSM_data/sub-02/ses-01/qsm/sub-02_ses-01_unwrapped-SEGUE_mask-nfe_bfr-PDF_localfield_masked_cropped.nii.gz\n",
            "Cropped file saved: /Users/sirbucks/Documents/xQSM/2025-Summer-Research/QSM_data/sub-02/ses-01/qsm/sub-02_ses-01_unwrapped-SEGUE_mask-nfe_bfr-PDF_susc-autoNDI_Chimap_masked_cropped.nii.gz\n",
            "Cropped file saved: /Users/sirbucks/Documents/xQSM/2025-Summer-Research/QSM_data/sub-05/ses-06/qsm/sub-05_ses-06_unwrapped-SEGUE_mask-nfe_bfr-PDF_localfield_masked_cropped.nii.gz\n",
            "Cropped file saved: /Users/sirbucks/Documents/xQSM/2025-Summer-Research/QSM_data/sub-05/ses-06/qsm/sub-05_ses-06_unwrapped-SEGUE_mask-nfe_bfr-PDF_susc-autoNDI_Chimap_masked_cropped.nii.gz\n",
            "Cropped file saved: /Users/sirbucks/Documents/xQSM/2025-Summer-Research/QSM_data/sub-09/ses-06/qsm/sub-09_ses-06_unwrapped-SEGUE_mask-nfe_bfr-PDF_localfield_masked_cropped.nii.gz\n",
            "Cropped file saved: /Users/sirbucks/Documents/xQSM/2025-Summer-Research/QSM_data/sub-09/ses-06/qsm/sub-09_ses-06_unwrapped-SEGUE_mask-nfe_bfr-PDF_susc-autoNDI_Chimap_masked_cropped.nii.gz\n",
            "Cropped file saved: /Users/sirbucks/Documents/xQSM/2025-Summer-Research/QSM_data/sub-02/ses-03/qsm/sub-02_ses-03_unwrapped-SEGUE_mask-nfe_bfr-PDF_localfield_masked_cropped.nii.gz\n",
            "Cropped file saved: /Users/sirbucks/Documents/xQSM/2025-Summer-Research/QSM_data/sub-02/ses-03/qsm/sub-02_ses-03_unwrapped-SEGUE_mask-nfe_bfr-PDF_susc-autoNDI_Chimap_masked_cropped.nii.gz\n",
            "Cropped file saved: /Users/sirbucks/Documents/xQSM/2025-Summer-Research/QSM_data/sub-05/ses-05/qsm/sub-05_ses-05_unwrapped-SEGUE_mask-nfe_bfr-PDF_localfield_masked_cropped.nii.gz\n",
            "Cropped file saved: /Users/sirbucks/Documents/xQSM/2025-Summer-Research/QSM_data/sub-05/ses-05/qsm/sub-05_ses-05_unwrapped-SEGUE_mask-nfe_bfr-PDF_susc-autoNDI_Chimap_masked_cropped.nii.gz\n",
            "Cropped file saved: /Users/sirbucks/Documents/xQSM/2025-Summer-Research/QSM_data/sub-09/ses-05/qsm/sub-09_ses-05_unwrapped-SEGUE_mask-nfe_bfr-PDF_localfield_masked_cropped.nii.gz\n",
            "Cropped file saved: /Users/sirbucks/Documents/xQSM/2025-Summer-Research/QSM_data/sub-09/ses-05/qsm/sub-09_ses-05_unwrapped-SEGUE_mask-nfe_bfr-PDF_susc-autoNDI_Chimap_masked_cropped.nii.gz\n",
            "Cropped file saved: /Users/sirbucks/Documents/xQSM/2025-Summer-Research/QSM_data/sub-02/ses-02/qsm/sub-02_ses-02_unwrapped-SEGUE_mask-nfe_bfr-PDF_localfield_masked_cropped.nii.gz\n",
            "Cropped file saved: /Users/sirbucks/Documents/xQSM/2025-Summer-Research/QSM_data/sub-02/ses-02/qsm/sub-02_ses-02_unwrapped-SEGUE_mask-nfe_bfr-PDF_susc-autoNDI_Chimap_masked_cropped.nii.gz\n",
            "Cropped file saved: /Users/sirbucks/Documents/xQSM/2025-Summer-Research/QSM_data/sub-09/ses-04/qsm/sub-09_ses-04_unwrapped-SEGUE_mask-nfe_bfr-PDF_localfield_masked_cropped.nii.gz\n",
            "Cropped file saved: /Users/sirbucks/Documents/xQSM/2025-Summer-Research/QSM_data/sub-09/ses-04/qsm/sub-09_ses-04_unwrapped-SEGUE_mask-nfe_bfr-PDF_susc-autoNDI_Chimap_masked_cropped.nii.gz\n",
            "Cropped file saved: /Users/sirbucks/Documents/xQSM/2025-Summer-Research/QSM_data/sub-05/ses-04/qsm/sub-05_ses-04_unwrapped-SEGUE_mask-nfe_bfr-PDF_localfield_masked_cropped.nii.gz\n",
            "Cropped file saved: /Users/sirbucks/Documents/xQSM/2025-Summer-Research/QSM_data/sub-05/ses-04/qsm/sub-05_ses-04_unwrapped-SEGUE_mask-nfe_bfr-PDF_susc-autoNDI_Chimap_masked_cropped.nii.gz\n",
            "\n",
            "Average crop box edges (x_min, x_max, y_min, y_max, z_min, z_max):\n",
            "[ 41.71428571 146.69387755  16.10204082 148.48979592  68.48979592\n",
            " 188.40816327]\n",
            "Average cropped image dimensions (x, y, z):\n",
            "[105.97959184 133.3877551  120.91836735]\n"
          ]
        }
      ],
      "source": [
        "import os\n",
        "import nibabel as nib\n",
        "import numpy as np\n",
        "\n",
        "# Define paths\n",
        "data_path = \"/Users/sirbucks/Documents/xQSM/2025-Summer-Research/QSM_data/\"\n",
        "brain_masks_dir = os.path.join(data_path, \"Brain_Masks\")\n",
        "\n",
        "# Collect all brain mask files\n",
        "brain_masks = []\n",
        "for mask_file in os.listdir(brain_masks_dir):\n",
        "    if '.DS_Store' in mask_file:\n",
        "        continue\n",
        "    brain_masks.append(os.path.join(brain_masks_dir, mask_file))\n",
        "\n",
        "def find_nonzero_crop_bounds(data):\n",
        "    \"\"\"Finds the bounding box of nonzero values in a 3D numpy array.\"\"\"\n",
        "    nonzero = np.nonzero(data)\n",
        "    if len(nonzero[0]) == 0:\n",
        "        # All zeros, return full slice (or could return None)\n",
        "        return (0, data.shape[0]), (0, data.shape[1]), (0, data.shape[2])\n",
        "    x_min, x_max = np.min(nonzero[0]), np.max(nonzero[0])\n",
        "    y_min, y_max = np.min(nonzero[1]), np.max(nonzero[1])\n",
        "    z_min, z_max = np.min(nonzero[2]), np.max(nonzero[2])\n",
        "    return (x_min, x_max), (y_min, y_max), (z_min, z_max)\n",
        "\n",
        "# Store all crop box edges and dimensions for averaging and output\n",
        "crop_boxes = []\n",
        "crop_dims = []\n",
        "crop_info_lines = []\n",
        "\n",
        "# For each brain mask, determine the subject/session and crop the masked images\n",
        "for mask_path in brain_masks:\n",
        "    mask_filename = os.path.basename(mask_path)\n",
        "    # Example mask_filename: sub-01_ses-01_Brain_Mask.nii.gz\n",
        "    # Extract subject and session from filename\n",
        "    parts = mask_filename.split('_')\n",
        "    sub = None\n",
        "    ses = None\n",
        "    for part in parts:\n",
        "        if part.startswith('sub-'):\n",
        "            sub = part\n",
        "        if part.startswith('ses-'):\n",
        "            ses = part\n",
        "    if sub and ses:\n",
        "        qsm_dir = os.path.join(data_path, sub, ses, 'qsm')\n",
        "        if not os.path.exists(qsm_dir):\n",
        "            print(f\"QSM directory does not exist for {sub} {ses}, skipping.\")\n",
        "            continue\n",
        "\n",
        "        # Define the two masked files to crop\n",
        "        masked_localfield_filename = f\"{sub}_{ses}_unwrapped-SEGUE_mask-nfe_bfr-PDF_localfield_masked_masked.nii.gz\"\n",
        "        masked_chimap_filename = f\"{sub}_{ses}_unwrapped-SEGUE_mask-nfe_bfr-PDF_susc-autoNDI_Chimap_masked_masked.nii.gz\"\n",
        "\n",
        "        for masked_filename in [masked_localfield_filename, masked_chimap_filename]:\n",
        "            masked_path = os.path.join(qsm_dir, masked_filename)\n",
        "            if not os.path.exists(masked_path):\n",
        "                print(f\"Masked file {masked_path} not found, skipping.\")\n",
        "                continue\n",
        "\n",
        "            # Load masked image\n",
        "            img_nii = nib.load(masked_path)\n",
        "            img_data = img_nii.get_fdata()\n",
        "\n",
        "            # Find crop bounds\n",
        "            (x_min, x_max), (y_min, y_max), (z_min, z_max) = find_nonzero_crop_bounds(img_data)\n",
        "\n",
        "            # Optionally, you can add a margin to the crop (e.g., 2 voxels)\n",
        "            margin = 0\n",
        "            x_min_c = max(x_min - margin, 0)\n",
        "            x_max_c = min(x_max + margin, img_data.shape[0] - 1)\n",
        "            y_min_c = max(y_min - margin, 0)\n",
        "            y_max_c = min(y_max + margin, img_data.shape[1] - 1)\n",
        "            z_min_c = max(z_min - margin, 0)\n",
        "            z_max_c = min(z_max + margin, img_data.shape[2] - 1)\n",
        "\n",
        "            # Crop the image\n",
        "            cropped_data = img_data[x_min_c:x_max_c+1, y_min_c:y_max_c+1, z_min_c:z_max_c+1]\n",
        "\n",
        "            # Adjust the affine to account for cropping\n",
        "            affine = img_nii.affine.copy()\n",
        "            # The translation part (last column) needs to be updated\n",
        "            orig_offset = np.array([x_min_c, y_min_c, z_min_c])\n",
        "            affine[:3, 3] = affine[:3, 3] + affine[:3, :3].dot(orig_offset)\n",
        "\n",
        "            # Save cropped image\n",
        "            cropped_filename = masked_filename.replace('_masked.nii.gz', '_cropped.nii.gz')\n",
        "            cropped_path = os.path.join(qsm_dir, cropped_filename)\n",
        "            cropped_nii = nib.Nifti1Image(cropped_data, affine, img_nii.header)\n",
        "            nib.save(cropped_nii, cropped_path)\n",
        "            print(f\"Cropped file saved: {cropped_path}\")\n",
        "\n",
        "            # Record crop box and dimensions for output\n",
        "            crop_boxes.append([x_min_c, x_max_c, y_min_c, y_max_c, z_min_c, z_max_c])\n",
        "            crop_dims.append([x_max_c - x_min_c + 1, y_max_c - y_min_c + 1, z_max_c - z_min_c + 1])\n",
        "            crop_info_lines.append(\n",
        "                f\"{cropped_filename}\\tX:({x_min_c},{x_max_c}) Y:({y_min_c},{y_max_c}) Z:({z_min_c},{z_max_c})\\t\"\n",
        "                f\"Shape: {cropped_data.shape}\"\n",
        "            )\n",
        "    else:\n",
        "        print(f\"Could not determine subject/session for {mask_filename}\")\n",
        "\n",
        "# Write crop info to txt file\n",
        "output_txt_path = os.path.join(data_path, \"cropped_image_dimensions.txt\")\n",
        "with open(output_txt_path, \"w\") as f:\n",
        "    f.write(\"Filename\\tCrop Box (x_min,x_max y_min,y_max z_min,z_max)\\tShape\\n\")\n",
        "    for line in crop_info_lines:\n",
        "        f.write(line + \"\\n\")\n",
        "\n",
        "# Compute and print average box edges and average dimensions\n",
        "if crop_boxes:\n",
        "    crop_boxes_np = np.array(crop_boxes)\n",
        "    crop_dims_np = np.array(crop_dims)\n",
        "    avg_edges = np.mean(crop_boxes_np, axis=0)\n",
        "    avg_dims = np.mean(crop_dims_np, axis=0)\n",
        "    print(\"\\nAverage crop box edges (x_min, x_max, y_min, y_max, z_min, z_max):\")\n",
        "    print(avg_edges)\n",
        "    print(\"Average cropped image dimensions (x, y, z):\")\n",
        "    print(avg_dims)\n",
        "    # Also write to txt file\n",
        "    with open(output_txt_path, \"a\") as f:\n",
        "        f.write(\"\\nAverage crop box edges (x_min, x_max, y_min, y_max, z_min, z_max):\\n\")\n",
        "        f.write(str(avg_edges) + \"\\n\")\n",
        "        f.write(\"Average cropped image dimensions (x, y, z):\\n\")\n",
        "        f.write(str(avg_dims) + \"\\n\")\n",
        "else:\n",
        "    print(\"No crop boxes found; nothing to average.\")\n"
      ]
    },
    {
      "cell_type": "code",
      "execution_count": null,
      "metadata": {},
      "outputs": [],
      "source": []
    },
    {
      "cell_type": "code",
      "execution_count": 16,
      "metadata": {
        "id": "E3FgnLdHoO2f"
      },
      "outputs": [],
      "source": [
        "import torch\n",
        "import torch.nn as nn\n",
        "import sys\n",
        "sys.path.append('..')\n",
        "import numpy as np\n",
        "import nibabel as nib\n",
        "import scipy.io as scio\n",
        "from collections import OrderedDict\n",
        "import time\n",
        "\n",
        "import sys\n",
        "sys.path.append('/Users/sirbucks/Documents/xQSM/2025-Summer-Research/xQSM/python')\n",
        "\n",
        "from Unet_file import Unet\n",
        "from xQSM_file import xQSM\n",
        "\n",
        "sys.path.append('/content/2025-Summer-Research/xQSM/python/eval')\n",
        "from utils import ssim, psnr\n"
      ]
    },
    {
      "cell_type": "markdown",
      "metadata": {
        "id": "HMR1dIcDMzG7"
      },
      "source": [
        "### PSNR = Peak Signal-to-Noise Ratio\n",
        "\n",
        "A numerical measure of how similar two images are.\n",
        "Typically used to measure how well a compressed or reconstructed image matches the original.\n",
        "Higher PSNR → images are more similar.\n",
        "\n",
        "### SSIM = Structural Similarity Index\n",
        "\n",
        "Unlike PSNR, SSIM aims to model perceived image quality by the human visual system.\n",
        "\n",
        "How SSIM works\n",
        "\n",
        "SSIM compares images based on:\n",
        "\n",
        "1. Luminance similarity\n",
        "2. Contrast similarity\n",
        "3. Structure similarity"
      ]
    },
    {
      "cell_type": "markdown",
      "metadata": {
        "id": "DXxcNmTdoO2f"
      },
      "source": [
        "# define utility functions"
      ]
    },
    {
      "cell_type": "markdown",
      "metadata": {},
      "source": [
        "Read local field map from nifti files"
      ]
    },
    {
      "cell_type": "code",
      "execution_count": 17,
      "metadata": {},
      "outputs": [],
      "source": [
        "def Read_nii(path):\n",
        "    nibField = nib.load(path)\n",
        "    Field = nibField.get_fdata()\n",
        "    aff = nibField.affine\n",
        "    Field = np.array(Field)\n",
        "    return Field, aff"
      ]
    },
    {
      "cell_type": "code",
      "execution_count": 19,
      "metadata": {
        "id": "BHu4t5g0oO2f"
      },
      "outputs": [],
      "source": [
        "def ZeroPadding(Field, factor = 8):\n",
        "    ImSize = np.shape(Field)\n",
        "    UpSize = np.ceil(ImSize / factor) * factor  # calculate the padding size;\n",
        "    pos_init = np.ceil((UpSize - ImSize) / 2)\n",
        "    pos_end = pos_init + ImSize - 1\n",
        "    tmp_Field = np.zeros(UpSize)\n",
        "    tmp_Field[pos_init[1]:pos_end[1], pos_init[2]:pos_end[2], pos_init[3]:pos_end[3]] = Field\n",
        "    Field = tmp_Field\n",
        "    pos = np.zeros([3, 2])\n",
        "    pos[:,0] = pos_init\n",
        "    pos[:,1] = pos_end\n",
        "    return Field, pos\n",
        "\n",
        "# Field, aff = Read_nii('/Users/sirbucks/Documents/xQSM/2025-Summer-Research/xQSM/xQSM_Checkpoints/field_input.nii')\n",
        "# imSize = np.shape(Field)\n",
        "# print(imSize)\n",
        "# print(np.mod(imSize,  8).any())\n",
        "# print(np.mod())\n",
        "# if np.mod(imSize,  8).any():\n",
        "#     Field, pos = ZeroPadding(Field, 8)  # ZeroPadding\n",
        "# Field = torch.from_numpy(Field)\n"
      ]
    },
    {
      "cell_type": "code",
      "execution_count": 13,
      "metadata": {},
      "outputs": [
        {
          "data": {
            "text/plain": [
              "8650752"
            ]
          },
          "execution_count": 13,
          "metadata": {},
          "output_type": "execute_result"
        }
      ],
      "source": [
        "192*256*176"
      ]
    },
    {
      "cell_type": "code",
      "execution_count": 14,
      "metadata": {},
      "outputs": [
        {
          "data": {
            "text/plain": [
              "1081344.0"
            ]
          },
          "execution_count": 14,
          "metadata": {},
          "output_type": "execute_result"
        }
      ],
      "source": [
        "8650752/8"
      ]
    },
    {
      "cell_type": "markdown",
      "metadata": {
        "id": "wqCNSMX7oO2f"
      },
      "source": [
        "#### ZeroPadding \n",
        "to make the size of the field divisible by the designated factor;\n",
        "          Field: local field map;\n",
        "          pos: the position information of padding;"
      ]
    },
    {
      "cell_type": "code",
      "execution_count": 20,
      "metadata": {
        "id": "Utlr48jHoO2g"
      },
      "outputs": [],
      "source": [
        "def ZeroRemoving(Field, pos):\n",
        "    Field = Field[pos_init[1]:pos_end[1], pos_init[2]:pos_end[2], pos_init[3]:pos_end[3]]\n",
        "    return Field"
      ]
    },
    {
      "cell_type": "markdown",
      "metadata": {},
      "source": [
        "markdown: ZeroRemoving: inverse function of ZeroPadding;"
      ]
    },
    {
      "cell_type": "code",
      "execution_count": 21,
      "metadata": {
        "id": "aHkWcnRNoO2g"
      },
      "outputs": [],
      "source": [
        "def Save_nii(Recon, aff, path):\n",
        "    nibRecon = nib.Nifti1Image(Recon,aff)\n",
        "    nib.save(nibRecon, path)"
      ]
    },
    {
      "cell_type": "markdown",
      "metadata": {
        "id": "iyQj6epvoO2g"
      },
      "source": [
        "markdown: save the results in nii format;"
      ]
    },
    {
      "cell_type": "code",
      "execution_count": 22,
      "metadata": {
        "id": "MfZU5RdmoO2g"
      },
      "outputs": [],
      "source": [
        "def Save_mat(Recon, path):\n",
        "    \"\"\"\n",
        "    save the results in mat format;\n",
        "    \"\"\"\n",
        "    scio.savemat(path, {'Recon':Recon})"
      ]
    },
    {
      "cell_type": "markdown",
      "metadata": {
        "id": "-DbD7mzyoO2g"
      },
      "source": [
        "markdown: save results in .mat format;"
      ]
    },
    {
      "cell_type": "markdown",
      "metadata": {
        "id": "iFMY9SKYoO2h"
      },
      "source": [
        "# define evaluation function for the networks"
      ]
    },
    {
      "cell_type": "code",
      "execution_count": 25,
      "metadata": {
        "id": "XTrLa84XoO2h"
      },
      "outputs": [],
      "source": [
        "def Eval(Field, NetName):\n",
        "    with torch.no_grad():\n",
        "        ## Network Load;\n",
        "        print('Load Pretrained Network')\n",
        "        model_weights_path = NetName + '.pth'\n",
        "        if 'Unet' in NetName:\n",
        "            Net = Unet(2)\n",
        "        elif 'xQSM' in NetName:\n",
        "            Net = xQSM(2, initial_num_layers=64)\n",
        "        else:\n",
        "            sys.stderr.write('Network Type Invalid!\\n')\n",
        "        if torch.cuda.is_available():  ## if GPU is available;\n",
        "            Net = nn.DataParallel(Net) ## our network is trained with dataparallel wrapper;\n",
        "            Net.load_state_dict(torch.load(model_weights_path))\n",
        "            Net = Net.module\n",
        "            device = torch.device(\"cuda:0\")\n",
        "            Net.to(device)\n",
        "            Net.eval()  ## set the model to evaluation mode\n",
        "            Field = Field.to(device)\n",
        "        else:\n",
        "            weights = torch.load(model_weights_path, map_location='cpu', weights_only=True)\n",
        "            new_state_dict = OrderedDict()\n",
        "            print(new_state_dict)\n",
        "            for k, v in weights.items():\n",
        "                ## remove the first 7 charecters  \"module.\" of the network weights\n",
        "                ## files to load the net into cpu, because our network is saved\n",
        "                ## as with dataparallel wrapper.\n",
        "                name = k[7:]\n",
        "                new_state_dict[name] = v\n",
        "            Net.load_state_dict(new_state_dict)\n",
        "            Net.eval()  ## set the model to evaluation mode\n",
        "        ################ Evaluation ##################\n",
        "        time_start = time.time()\n",
        "        Recon = Net(Field)\n",
        "        time_end = time.time()\n",
        "        print('%f seconds elapsed!' % (time_end - time_start))\n",
        "        Recon = torch.squeeze(Recon, 0)\n",
        "        Recon = torch.squeeze(Recon, 0)\n",
        "        Recon = Recon.to('cpu')  ## transfer to cpu for saving.\n",
        "        Recon = Recon.numpy()\n",
        "    return Recon\n"
      ]
    },
    {
      "cell_type": "markdown",
      "metadata": {
        "id": "qOBP6AWJoO2h"
      },
      "source": [
        "markdown: Eval(Field, Netype, Env) retunrs the QSM reconstruction of the local field map (Field)\n",
        "          using a designated Network (NetName);"
      ]
    },
    {
      "cell_type": "markdown",
      "metadata": {
        "id": "haEjcZsioO2h"
      },
      "source": [
        "# Demonstration on a simulated COSMOS data;"
      ]
    },
    {
      "cell_type": "code",
      "execution_count": null,
      "metadata": {
        "colab": {
          "base_uri": "https://localhost:8080/"
        },
        "id": "S5qUISy2oO2h",
        "outputId": "07126e42-fba3-4de0-93df-3a2a876318cf"
      },
      "outputs": [
        {
          "name": "stdout",
          "output_type": "stream",
          "text": [
            "Data Loading\n",
            "Loading Completed\n",
            "ZeroPadding\n",
            "Reconstruction\n",
            "Load Pretrained Network\n",
            "OrderedDict()\n",
            "79.389482 seconds elapsed!\n",
            "Load Pretrained Network\n",
            "OrderedDict()\n",
            "219.273347 seconds elapsed!\n",
            "PSNR of xQSM_invivo is 4.248406\n"
          ]
        }
      ],
      "source": [
        "with torch.no_grad():\n",
        "    ## Data Load;\n",
        "    print('Data Loading')\n",
        "    Field, aff = Read_nii('/Users/sirbucks/Documents/xQSM/2025-Summer-Research/QSM_data/sub-09/ses-01/qsm/sub-09_ses-01_unwrapped-SEGUE_mask-nfe_bfr-PDF_localfield.nii.gz')\n",
        "    print('Loading Completed')\n",
        "    mask = Field != 0\n",
        "    ## note the size of the field map input needs to be divisibel by the factor\n",
        "    ## otherwise 0 padding should be done first\n",
        "    print('ZeroPadding')\n",
        "    imSize = np.shape(Field)\n",
        "    if np.mod(imSize,  8).any(): # The demo data field.nii is divisible by 8\n",
        "        Field, pos = ZeroPadding(Field, 8)  # ZeroPadding\n",
        "    Field = torch.from_numpy(Field)\n",
        "    ## The networks in pytorch only supports inputs that are a mini-batch of samples,\n",
        "    ## and not a single sample. Therefore we need  to squeeze the 3D tensor to be\n",
        "    ## a 5D tesor for model evaluation.\n",
        "    Field = torch.unsqueeze(Field, 0)\n",
        "    Field = torch.unsqueeze(Field, 0)\n",
        "    Field = Field.float()\n",
        "    ## QSM Reconstruction\n",
        "    print('Reconstruction')\n",
        "    #Recon_xQSM_invivo_TL = Eval(Field, '/Users/sirbucks/Documents/xQSM/2025-Summer-Research/xQSM/ckpt/Trial_1_Jun17/ckpt/xQSM_TransferLearning_Best')\n",
        "    Recon_xQSM_invivo = Eval(Field, '/Users/sirbucks/Documents/xQSM/2025-Summer-Research/xQSM/Pretrained_Checkpoints/xQSM_invivo')\n",
        "    Recon_Unet_invivo = Eval(Field, '/Users/sirbucks/Documents/xQSM/2025-Summer-Research/xQSM/Pretrained_Checkpoints/Unet_invivo')\n",
        "    #Recon_xQSM_syn = Eval(Field, 'xQSM_syn')\n",
        "    #Recon_Unet_syn = Eval(Field, 'Unet_syn')\n",
        "    if np.mod(imSize,  8).any():\n",
        "        Recon_xQSM_invivo  = ZeroRemoving(Recon_xQSM_invivo , pos) # ZeroRemoving if zeropadding were performed;\n",
        "        Recon_Unet_invivo  = ZeroRemoving(Recon_Unet_invivo , pos)\n",
        "    Recon_xQSM_invivo = Recon_xQSM_invivo * mask\n",
        "    Recon_Unet_invivo = Recon_Unet_invivo * mask\n",
        "    ## calculate PSNR and SSIM\n",
        "    label, aff = Read_nii('/Users/sirbucks/Documents/xQSM/2025-Summer-Research/QSM_data/sub-09/ses-01/qsm/sub-09_ses-01_unwrapped-SEGUE_mask-nfe_bfr-PDF_susc-autoNDI_Chimap.nii.gz')  # read label;\n",
        "    print('PSNR of xQSM_invivo is %f'% (psnr(Recon_xQSM_invivo, label)))\n",
        "    print('PSNR of Unet_invivo is %f'% (psnr(Recon_Unet_invivo, label)))\n",
        "    ## Saving Results (in .mat)\n",
        "    #print('saving reconstructions')\n",
        "    # path = './Chi_xQSM_invivo.mat'\n",
        "    # Save_mat(Recon_xQSM_invivo, path)\n",
        "    # path = './Chi_Unet_invivo.mat'\n",
        "    # Save_mat(Recon_Unet_invivo, path)\n",
        "    #path = './Chi_xQSM_syn.mat'\n",
        "    #Save_mat(Recon_xQSM_syn, path)\n",
        "    #path = './Chi_Unet_syn.mat'\n",
        "    #Save_mat(Recon_Unet_syn, path)\n",
        "    ## or can be stored in .nii format;\n",
        "    # path = 'Chi_xQSM_invivo.nii'\n",
        "    # Save_nii(Recon_xQSM_invivo, aff, path)\n",
        "    #path = 'Chi_Unet_invivo.nii'\n",
        "    #Save_nii(Recon_Unet_invivo, aff, path)\n",
        "    #path = 'Chi_xQSM_syn.nii'\n",
        "    #Save_nii(Recon_xQSM_syn, aff, path)\n",
        "    #path = 'Chi_Unet_syn.nii'\n",
        "    #Save_nii(Recon_xQSM_invivo, aff, path)"
      ]
    },
    {
      "cell_type": "code",
      "execution_count": 27,
      "metadata": {},
      "outputs": [
        {
          "name": "stdout",
          "output_type": "stream",
          "text": [
            "PSNR of Unet_invivo is 5.524919\n"
          ]
        }
      ],
      "source": [
        "print('PSNR of Unet_invivo is %f'% (psnr(Recon_Unet_invivo, label)))"
      ]
    }
  ],
  "metadata": {
    "colab": {
      "include_colab_link": true,
      "provenance": []
    },
    "kernelspec": {
      "display_name": "med_sam",
      "language": "python",
      "name": "python3"
    },
    "language_info": {
      "codemirror_mode": {
        "name": "ipython",
        "version": 3
      },
      "file_extension": ".py",
      "mimetype": "text/x-python",
      "name": "python",
      "nbconvert_exporter": "python",
      "pygments_lexer": "ipython3",
      "version": "3.9.16"
    }
  },
  "nbformat": 4,
  "nbformat_minor": 0
}
