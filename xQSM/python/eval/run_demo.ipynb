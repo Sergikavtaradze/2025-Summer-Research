{
  "cells": [
    {
      "cell_type": "markdown",
      "metadata": {
        "id": "view-in-github",
        "colab_type": "text"
      },
      "source": [
        "<a href=\"https://colab.research.google.com/github/Sergikavtaradze/2025-Summer-Research/blob/main/xQSM/python/eval/run_demo.ipynb\" target=\"_parent\"><img src=\"https://colab.research.google.com/assets/colab-badge.svg\" alt=\"Open In Colab\"/></a>"
      ]
    },
    {
      "cell_type": "markdown",
      "metadata": {
        "id": "8OJ2MZNOoO2e"
      },
      "source": [
        "# This is a demo for xQSM;"
      ]
    },
    {
      "cell_type": "markdown",
      "metadata": {
        "id": "layXfRdBoO2e"
      },
      "source": [
        "# import necessary packages"
      ]
    },
    {
      "cell_type": "code",
      "source": [
        "# prompt: git clone\n",
        "\n",
        "!git clone https://github.com/Sergikavtaradze/2025-Summer-Research.git"
      ],
      "metadata": {
        "colab": {
          "base_uri": "https://localhost:8080/"
        },
        "id": "f-ycNHCDoiBW",
        "outputId": "bbdd2774-3cc2-46a0-a264-eb09afb474e9"
      },
      "execution_count": 3,
      "outputs": [
        {
          "output_type": "stream",
          "name": "stdout",
          "text": [
            "Cloning into '2025-Summer-Research'...\n",
            "remote: Enumerating objects: 1550, done.\u001b[K\n",
            "remote: Counting objects: 100% (17/17), done.\u001b[K\n",
            "remote: Compressing objects: 100% (16/16), done.\u001b[K\n",
            "remote: Total 1550 (delta 3), reused 13 (delta 1), pack-reused 1533 (from 2)\u001b[K\n",
            "Receiving objects: 100% (1550/1550), 221.40 MiB | 22.79 MiB/s, done.\n",
            "Resolving deltas: 100% (831/831), done.\n"
          ]
        }
      ]
    },
    {
      "cell_type": "code",
      "execution_count": 11,
      "metadata": {
        "id": "E3FgnLdHoO2f"
      },
      "outputs": [],
      "source": [
        "import torch\n",
        "import torch.nn as nn\n",
        "import sys\n",
        "sys.path.append('..')\n",
        "import numpy as np\n",
        "import nibabel as nib\n",
        "import scipy.io as scio\n",
        "from collections import OrderedDict\n",
        "import time\n",
        "\n",
        "import sys\n",
        "sys.path.append('/content/2025-Summer-Research/xQSM/python')\n",
        "\n",
        "from Unet import *\n",
        "from xQSM import *\n",
        "\n",
        "sys.path.append('/content/2025-Summer-Research/xQSM/python/eval')\n",
        "from utils import ssim, psnr\n"
      ]
    },
    {
      "cell_type": "markdown",
      "metadata": {
        "id": "DXxcNmTdoO2f"
      },
      "source": [
        "# define utility functions"
      ]
    },
    {
      "cell_type": "code",
      "execution_count": 12,
      "metadata": {
        "id": "BHu4t5g0oO2f"
      },
      "outputs": [],
      "source": [
        "def ZeroPadding(Field, factor = 8):\n",
        "    ImSize = np.shape(Field)\n",
        "    UpSize = np.ceil(ImSize / factor) * factor  # calculate the padding size;\n",
        "    pos_init = np.ceil((UpSize - ImSize) / 2)\n",
        "    pos_end = pos_init + ImSize - 1\n",
        "    tmp_Field = np.zeros(UpSize)\n",
        "    tmp_Field[pos_init[1]:pos_end[1], pos_init[2]:pos_end[2], pos_init[3]:pos_end[3]] = Field\n",
        "    Field = tmp_Field\n",
        "    pos = np.zeros([3, 2])\n",
        "    pos[:,0] = pos_init\n",
        "    pos[:,1] = pos_end\n",
        "    return Field, pos"
      ]
    },
    {
      "cell_type": "markdown",
      "metadata": {
        "id": "wqCNSMX7oO2f"
      },
      "source": [
        "markdown: ZeroPadding to make the size of the field divisible by the designated factor;\n",
        "          Field: local field map;\n",
        "          pos: the position information of padding;"
      ]
    },
    {
      "cell_type": "code",
      "execution_count": 13,
      "metadata": {
        "id": "Utlr48jHoO2g"
      },
      "outputs": [],
      "source": [
        "def ZeroRemoving(Field, pos):\n",
        "    Field = Field[pos_init[1]:pos_end[1], pos_init[2]:pos_end[2], pos_init[3]:pos_end[3]]\n",
        "    return Field"
      ]
    },
    {
      "cell_type": "markdown",
      "metadata": {
        "id": "ZFNFPLN4oO2g"
      },
      "source": [
        "markdown: ZeroRemoving: inverse function of ZeroPadding;"
      ]
    },
    {
      "cell_type": "code",
      "execution_count": 14,
      "metadata": {
        "id": "-EM2uOA1oO2g"
      },
      "outputs": [],
      "source": [
        "def Read_nii(path):\n",
        "    nibField = nib.load(path)\n",
        "    Field = nibField.get_fdata()\n",
        "    aff = nibField.affine\n",
        "    Field = np.array(Field)\n",
        "    return Field, aff"
      ]
    },
    {
      "cell_type": "markdown",
      "metadata": {
        "id": "htQBVCCyoO2g"
      },
      "source": [
        "markdown: read local field map from nifti fils;"
      ]
    },
    {
      "cell_type": "code",
      "execution_count": 15,
      "metadata": {
        "id": "aHkWcnRNoO2g"
      },
      "outputs": [],
      "source": [
        "def Save_nii(Recon, aff, path):\n",
        "    nibRecon = nib.Nifti1Image(Recon,aff)\n",
        "    nib.save(nibRecon, path)"
      ]
    },
    {
      "cell_type": "markdown",
      "metadata": {
        "id": "iyQj6epvoO2g"
      },
      "source": [
        "markdown: save the results in nii format;"
      ]
    },
    {
      "cell_type": "code",
      "execution_count": 16,
      "metadata": {
        "id": "MfZU5RdmoO2g"
      },
      "outputs": [],
      "source": [
        "def Save_mat(Recon, path):\n",
        "    \"\"\"\n",
        "    save the results in mat format;\n",
        "    \"\"\"\n",
        "    scio.savemat(path, {'Recon':Recon})"
      ]
    },
    {
      "cell_type": "markdown",
      "metadata": {
        "id": "-DbD7mzyoO2g"
      },
      "source": [
        "markdown: save results in .mat format;"
      ]
    },
    {
      "cell_type": "markdown",
      "metadata": {
        "id": "iFMY9SKYoO2h"
      },
      "source": [
        "# define evaluation function for the networks"
      ]
    },
    {
      "cell_type": "code",
      "execution_count": 17,
      "metadata": {
        "id": "XTrLa84XoO2h"
      },
      "outputs": [],
      "source": [
        "def Eval(Field, NetName):\n",
        "    with torch.no_grad():\n",
        "        ## Network Load;\n",
        "        print('Load Pretrained Network')\n",
        "        model_weights_path = NetName + '.pth'\n",
        "        if 'xQSM' in NetName:\n",
        "            Net = xQSM(2)\n",
        "        elif 'Unet' in NetName:\n",
        "            Net = Unet(2)\n",
        "        else:\n",
        "            sys.stderr.write('Network Type Invalid!\\n')\n",
        "        if torch.cuda.is_available():  ## if GPU is available;\n",
        "            Net = nn.DataParallel(Net) ## our network is trained with dataparallel wrapper;\n",
        "            Net.load_state_dict(torch.load(model_weights_path))\n",
        "            Net = Net.module\n",
        "            device = torch.device(\"cuda:0\")\n",
        "            Net.to(device)\n",
        "            Net.eval()  ## set the model to evaluation mode\n",
        "            Field = Field.to(device)\n",
        "        else:\n",
        "            weights = torch.load(model_weights_path, map_location='cpu')\n",
        "            new_state_dict = OrderedDict()\n",
        "            print(new_state_dict)\n",
        "            for k, v in weights.items():\n",
        "                ## remove the first 7 charecters  \"module.\" of the network weights\n",
        "                ## files to load the net into cpu, because our network is saved\n",
        "                ## as with dataparallel wrapper.\n",
        "                name = k[7:]\n",
        "                new_state_dict[name] = v\n",
        "            Net.load_state_dict(new_state_dict)\n",
        "            Net.eval()  ## set the model to evaluation mode\n",
        "        ################ Evaluation ##################\n",
        "        time_start = time.time()\n",
        "        Recon = Net(Field)\n",
        "        time_end = time.time()\n",
        "        print('%f seconds elapsed!' % (time_end - time_start))\n",
        "        Recon = torch.squeeze(Recon, 0)\n",
        "        Recon = torch.squeeze(Recon, 0)\n",
        "        Recon = Recon.to('cpu')  ## transfer to cpu for saving.\n",
        "        Recon = Recon.numpy()\n",
        "    return Recon\n"
      ]
    },
    {
      "cell_type": "markdown",
      "metadata": {
        "id": "qOBP6AWJoO2h"
      },
      "source": [
        "markdown: Eval(Field, Netype, Env) retunrs the QSM reconstruction of the local field map (Field)\n",
        "          using a designated Network (NetName);"
      ]
    },
    {
      "cell_type": "markdown",
      "metadata": {
        "id": "haEjcZsioO2h"
      },
      "source": [
        "# Demonstration on a simulated COSMOS data;"
      ]
    },
    {
      "cell_type": "code",
      "execution_count": 18,
      "metadata": {
        "colab": {
          "base_uri": "https://localhost:8080/",
          "height": 486
        },
        "id": "S5qUISy2oO2h",
        "outputId": "e62fc7b0-e938-44c5-c608-e23ed1488a8f"
      },
      "outputs": [
        {
          "output_type": "stream",
          "name": "stdout",
          "text": [
            "Data Loading\n"
          ]
        },
        {
          "output_type": "error",
          "ename": "FileNotFoundError",
          "evalue": "No such file or no access: '../../field_input.nii'",
          "traceback": [
            "\u001b[0;31m---------------------------------------------------------------------------\u001b[0m",
            "\u001b[0;31mFileNotFoundError\u001b[0m                         Traceback (most recent call last)",
            "\u001b[0;32m/usr/local/lib/python3.11/dist-packages/nibabel/loadsave.py\u001b[0m in \u001b[0;36mload\u001b[0;34m(filename, **kwargs)\u001b[0m\n\u001b[1;32m    100\u001b[0m     \u001b[0;32mtry\u001b[0m\u001b[0;34m:\u001b[0m\u001b[0;34m\u001b[0m\u001b[0;34m\u001b[0m\u001b[0m\n\u001b[0;32m--> 101\u001b[0;31m         \u001b[0mstat_result\u001b[0m \u001b[0;34m=\u001b[0m \u001b[0mos\u001b[0m\u001b[0;34m.\u001b[0m\u001b[0mstat\u001b[0m\u001b[0;34m(\u001b[0m\u001b[0mfilename\u001b[0m\u001b[0;34m)\u001b[0m\u001b[0;34m\u001b[0m\u001b[0;34m\u001b[0m\u001b[0m\n\u001b[0m\u001b[1;32m    102\u001b[0m     \u001b[0;32mexcept\u001b[0m \u001b[0mOSError\u001b[0m\u001b[0;34m:\u001b[0m\u001b[0;34m\u001b[0m\u001b[0;34m\u001b[0m\u001b[0m\n",
            "\u001b[0;31mFileNotFoundError\u001b[0m: [Errno 2] No such file or directory: '../../field_input.nii'",
            "\nDuring handling of the above exception, another exception occurred:\n",
            "\u001b[0;31mFileNotFoundError\u001b[0m                         Traceback (most recent call last)",
            "\u001b[0;32m/tmp/ipython-input-18-936313117.py\u001b[0m in \u001b[0;36m<cell line: 0>\u001b[0;34m()\u001b[0m\n\u001b[1;32m      2\u001b[0m     \u001b[0;31m## Data Load;\u001b[0m\u001b[0;34m\u001b[0m\u001b[0;34m\u001b[0m\u001b[0m\n\u001b[1;32m      3\u001b[0m     \u001b[0mprint\u001b[0m\u001b[0;34m(\u001b[0m\u001b[0;34m'Data Loading'\u001b[0m\u001b[0;34m)\u001b[0m\u001b[0;34m\u001b[0m\u001b[0;34m\u001b[0m\u001b[0m\n\u001b[0;32m----> 4\u001b[0;31m     \u001b[0mField\u001b[0m\u001b[0;34m,\u001b[0m \u001b[0maff\u001b[0m \u001b[0;34m=\u001b[0m \u001b[0mRead_nii\u001b[0m\u001b[0;34m(\u001b[0m\u001b[0;34m'../../field_input.nii'\u001b[0m\u001b[0;34m)\u001b[0m\u001b[0;34m\u001b[0m\u001b[0;34m\u001b[0m\u001b[0m\n\u001b[0m\u001b[1;32m      5\u001b[0m     \u001b[0mprint\u001b[0m\u001b[0;34m(\u001b[0m\u001b[0;34m'Loading Completed'\u001b[0m\u001b[0;34m)\u001b[0m\u001b[0;34m\u001b[0m\u001b[0;34m\u001b[0m\u001b[0m\n\u001b[1;32m      6\u001b[0m     \u001b[0mmask\u001b[0m \u001b[0;34m=\u001b[0m \u001b[0mField\u001b[0m \u001b[0;34m!=\u001b[0m \u001b[0;36m0\u001b[0m\u001b[0;34m\u001b[0m\u001b[0;34m\u001b[0m\u001b[0m\n",
            "\u001b[0;32m/tmp/ipython-input-14-349596149.py\u001b[0m in \u001b[0;36mRead_nii\u001b[0;34m(path)\u001b[0m\n\u001b[1;32m      1\u001b[0m \u001b[0;32mdef\u001b[0m \u001b[0mRead_nii\u001b[0m\u001b[0;34m(\u001b[0m\u001b[0mpath\u001b[0m\u001b[0;34m)\u001b[0m\u001b[0;34m:\u001b[0m\u001b[0;34m\u001b[0m\u001b[0;34m\u001b[0m\u001b[0m\n\u001b[0;32m----> 2\u001b[0;31m     \u001b[0mnibField\u001b[0m \u001b[0;34m=\u001b[0m \u001b[0mnib\u001b[0m\u001b[0;34m.\u001b[0m\u001b[0mload\u001b[0m\u001b[0;34m(\u001b[0m\u001b[0mpath\u001b[0m\u001b[0;34m)\u001b[0m\u001b[0;34m\u001b[0m\u001b[0;34m\u001b[0m\u001b[0m\n\u001b[0m\u001b[1;32m      3\u001b[0m     \u001b[0mField\u001b[0m \u001b[0;34m=\u001b[0m \u001b[0mnibField\u001b[0m\u001b[0;34m.\u001b[0m\u001b[0mget_fdata\u001b[0m\u001b[0;34m(\u001b[0m\u001b[0;34m)\u001b[0m\u001b[0;34m\u001b[0m\u001b[0;34m\u001b[0m\u001b[0m\n\u001b[1;32m      4\u001b[0m     \u001b[0maff\u001b[0m \u001b[0;34m=\u001b[0m \u001b[0mnibField\u001b[0m\u001b[0;34m.\u001b[0m\u001b[0maffine\u001b[0m\u001b[0;34m\u001b[0m\u001b[0;34m\u001b[0m\u001b[0m\n\u001b[1;32m      5\u001b[0m     \u001b[0mField\u001b[0m \u001b[0;34m=\u001b[0m \u001b[0mnp\u001b[0m\u001b[0;34m.\u001b[0m\u001b[0marray\u001b[0m\u001b[0;34m(\u001b[0m\u001b[0mField\u001b[0m\u001b[0;34m)\u001b[0m\u001b[0;34m\u001b[0m\u001b[0;34m\u001b[0m\u001b[0m\n",
            "\u001b[0;32m/usr/local/lib/python3.11/dist-packages/nibabel/loadsave.py\u001b[0m in \u001b[0;36mload\u001b[0;34m(filename, **kwargs)\u001b[0m\n\u001b[1;32m    101\u001b[0m         \u001b[0mstat_result\u001b[0m \u001b[0;34m=\u001b[0m \u001b[0mos\u001b[0m\u001b[0;34m.\u001b[0m\u001b[0mstat\u001b[0m\u001b[0;34m(\u001b[0m\u001b[0mfilename\u001b[0m\u001b[0;34m)\u001b[0m\u001b[0;34m\u001b[0m\u001b[0;34m\u001b[0m\u001b[0m\n\u001b[1;32m    102\u001b[0m     \u001b[0;32mexcept\u001b[0m \u001b[0mOSError\u001b[0m\u001b[0;34m:\u001b[0m\u001b[0;34m\u001b[0m\u001b[0;34m\u001b[0m\u001b[0m\n\u001b[0;32m--> 103\u001b[0;31m         \u001b[0;32mraise\u001b[0m \u001b[0mFileNotFoundError\u001b[0m\u001b[0;34m(\u001b[0m\u001b[0;34mf\"No such file or no access: '{filename}'\"\u001b[0m\u001b[0;34m)\u001b[0m\u001b[0;34m\u001b[0m\u001b[0;34m\u001b[0m\u001b[0m\n\u001b[0m\u001b[1;32m    104\u001b[0m     \u001b[0;32mif\u001b[0m \u001b[0mstat_result\u001b[0m\u001b[0;34m.\u001b[0m\u001b[0mst_size\u001b[0m \u001b[0;34m<=\u001b[0m \u001b[0;36m0\u001b[0m\u001b[0;34m:\u001b[0m\u001b[0;34m\u001b[0m\u001b[0;34m\u001b[0m\u001b[0m\n\u001b[1;32m    105\u001b[0m         \u001b[0;32mraise\u001b[0m \u001b[0mImageFileError\u001b[0m\u001b[0;34m(\u001b[0m\u001b[0;34mf\"Empty file: '{filename}'\"\u001b[0m\u001b[0;34m)\u001b[0m\u001b[0;34m\u001b[0m\u001b[0;34m\u001b[0m\u001b[0m\n",
            "\u001b[0;31mFileNotFoundError\u001b[0m: No such file or no access: '../../field_input.nii'"
          ]
        }
      ],
      "source": [
        "with torch.no_grad():\n",
        "    ## Data Load;\n",
        "    print('Data Loading')\n",
        "    Field, aff = Read_nii('../../field_input.nii')\n",
        "    print('Loading Completed')\n",
        "    mask = Field != 0\n",
        "    ## note the size of the field map input needs to be divisibel by the factor\n",
        "    ## otherwise 0 padding should be done first\n",
        "    print('ZeroPadding')\n",
        "    imSize = np.shape(Field)\n",
        "    if np.mod(imSize,  8).any():\n",
        "        Field, pos = ZeroPadding(Field, 8)  # ZeroPadding\n",
        "    Field = torch.from_numpy(Field)\n",
        "    ## The networks in pytorch only supports inputs that are a mini-batch of samples,\n",
        "    ## and not a single sample. Therefore we need  to squeeze the 3D tensor to be\n",
        "    ## a 5D tesor for model evaluation.\n",
        "    Field = torch.unsqueeze(Field, 0)\n",
        "    Field = torch.unsqueeze(Field, 0)\n",
        "    Field = Field.float()\n",
        "    ## QSM Reconstruction\n",
        "    print('Reconstruction')\n",
        "    Recon_xQSM_invivo = Eval(Field, 'xQSM_invivo')\n",
        "    Recon_Unet_invivo = Eval(Field, 'Unet_invivo')\n",
        "    #Recon_xQSM_syn = Eval(Field, 'xQSM_syn')\n",
        "    #Recon_Unet_syn = Eval(Field, 'Unet_syn')\n",
        "    if np.mod(imSize,  8).any():\n",
        "        Recon_xQSM_invivo  = ZeroRemoving(Recon_xQSM_invivo , pos) # ZeroRemoving if zeropadding were performed;\n",
        "        Recon_Unet_invivo  = ZeroRemoving(Recon_Unet_invivo , pos)\n",
        "    Recon_xQSM_invivo = Recon_xQSM_invivo * mask\n",
        "    Recon_Unet_invivo = Recon_Unet_invivo * mask\n",
        "    ## calculate PSNR and SSIM\n",
        "    label, aff = Read_nii('../../cosmos_label.nii')  # read label;\n",
        "    print('PSNR of xQSM_invivo is %f'% (psnr(Recon_xQSM_invivo, label)))\n",
        "    print('PSNR of Unet_invivo is %f'% (psnr(Recon_Unet_invivo, label)))\n",
        "    ## Saving Results (in .mat)\n",
        "    print('saving reconstructions')\n",
        "    path = './Chi_xQSM_invivo.mat'\n",
        "    Save_mat(Recon_xQSM_invivo, path)\n",
        "    path = './Chi_Unet_invivo.mat'\n",
        "    Save_mat(Recon_Unet_invivo, path)\n",
        "    #path = './Chi_xQSM_syn.mat'\n",
        "    #Save_mat(Recon_xQSM_syn, path)\n",
        "    #path = './Chi_Unet_syn.mat'\n",
        "    #Save_mat(Recon_Unet_syn, path)\n",
        "    ## or can be stored in .nii format;\n",
        "    path = 'Chi_xQSM_invivo.nii'\n",
        "    Save_nii(Recon_xQSM_invivo, aff, path)\n",
        "    path = 'Chi_Unet_invivo.nii'\n",
        "    Save_nii(Recon_Unet_invivo, aff, path)\n",
        "    #path = 'Chi_xQSM_syn.nii'\n",
        "    #Save_nii(Recon_xQSM_syn, aff, path)\n",
        "    #path = 'Chi_Unet_syn.nii'\n",
        "    #Save_nii(Recon_xQSM_invivo, aff, path)"
      ]
    }
  ],
  "metadata": {
    "kernelspec": {
      "display_name": "Python 3",
      "language": "python",
      "name": "python3"
    },
    "language_info": {
      "codemirror_mode": {
        "name": "ipython",
        "version": 3
      },
      "file_extension": ".py",
      "mimetype": "text/x-python",
      "name": "python",
      "nbconvert_exporter": "python",
      "pygments_lexer": "ipython3",
      "version": "3.7.7"
    },
    "colab": {
      "provenance": [],
      "include_colab_link": true
    }
  },
  "nbformat": 4,
  "nbformat_minor": 0
}